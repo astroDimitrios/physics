{
  "nbformat": 4,
  "nbformat_minor": 0,
  "metadata": {
    "kernelspec": {
      "display_name": "Python 3",
      "language": "python",
      "name": "python3"
    },
    "language_info": {
      "codemirror_mode": {
        "name": "ipython",
        "version": 3
      },
      "file_extension": ".py",
      "mimetype": "text/x-python",
      "name": "python",
      "nbconvert_exporter": "python",
      "pygments_lexer": "ipython3",
      "version": "3.7.7"
    },
    "colab": {
      "name": "Gaia-Clusters-HR.ipynb",
      "provenance": [],
      "collapsed_sections": [],
      "include_colab_link": true
    }
  },
  "cells": [
    {
      "cell_type": "markdown",
      "metadata": {
        "id": "view-in-github",
        "colab_type": "text"
      },
      "source": [
        "<a href=\"https://colab.research.google.com/github/swshadle/physics/blob/master/Gaia_Clusters_HR.ipynb\" target=\"_parent\"><img src=\"https://colab.research.google.com/assets/colab-badge.svg\" alt=\"Open In Colab\"/></a>"
      ]
    },
    {
      "cell_type": "markdown",
      "metadata": {
        "id": "0YFnh8WA_Gdg",
        "colab_type": "text"
      },
      "source": [
        "# Retrieving Clusters from Gaia with Hertzsprung-Russell Diagram\n",
        "\n",
        "Learn how to retrieve [Gaia mission](https://sci.esa.int/web/gaia) data from within Google Colab. In this lab, we'll retrieve apparent brightness, location in the night sky (right ascension and declination), distance from earth, and color (how red or blue) information for one particular one star cluster, [the Pleiades](https://en.wikipedia.org/wiki/Pleiades). We'll also use the tools of astrophysics to calculate absolute magnitude, luminosity, surface temperature, and size from the Gaia-supplied data.\n",
        "\n",
        "Partially based on [Gaia Python Tutorial: Cluster Analysis](https://gea.esac.esa.int/archive-help/tutorials/python_cluster/index.html)\n",
        "\n",
        "If you're new to Python or Google Colab, press shift-enter on each cell to step through the code (or click the play button in the top-left of each code cell).\n",
        "\n",
        "**STUDENTS:**\n",
        "The code shows you how to retrieve and clean Gaia data, calculate new properties, and plot right ascension/declination and Hertzsprung-Russell diagrams for the Pleiades star cluster. Your assignment at the end will be to repeat this process for the Hyades cluster."
      ]
    },
    {
      "cell_type": "code",
      "metadata": {
        "id": "-N_Mx4nc_Gdj",
        "colab_type": "code",
        "colab": {}
      },
      "source": [
        "# Install astroquery package to talk to Gaia database\n",
        "%pip install astroquery"
      ],
      "execution_count": null,
      "outputs": []
    },
    {
      "cell_type": "code",
      "metadata": {
        "id": "bl_JbGZo_Gdp",
        "colab_type": "code",
        "colab": {}
      },
      "source": [
        "from astroquery.gaia import Gaia\n",
        "\n",
        "# Import data science packages\n",
        "import pandas as pd\n",
        "\n",
        "# Import NumPy to do mathy stuff\n",
        "import numpy as np\n",
        "\n",
        "print('modules imported')"
      ],
      "execution_count": null,
      "outputs": []
    },
    {
      "cell_type": "code",
      "metadata": {
        "id": "jlaMAPR0_Gdw",
        "colab_type": "code",
        "colab": {}
      },
      "source": [
        "# Suppress warnings. Comment this out (put #'s at the start of the lines) if you wish to see the warning messages\n",
        "import warnings\n",
        "warnings.filterwarnings('ignore')\n",
        "print('warnings suppressed')"
      ],
      "execution_count": null,
      "outputs": []
    },
    {
      "cell_type": "markdown",
      "metadata": {
        "id": "1BkJ9s1U_Gd4",
        "colab_type": "text"
      },
      "source": [
        "Add timing functions to measure how long database queries take."
      ]
    },
    {
      "cell_type": "code",
      "metadata": {
        "id": "SqyiwSwq_Gd4",
        "colab_type": "code",
        "colab": {}
      },
      "source": [
        "from datetime import datetime\n",
        "\n",
        "def timer_start():\n",
        "  global start_time\n",
        "  start_time = datetime.now()\n",
        "\n",
        "def timer_stop():\n",
        "  time_elapsed = datetime.now() - start_time\n",
        "\n",
        "  da, remainder  = divmod(time_elapsed.total_seconds(), 24*3600)\n",
        "  hrs, remainder = divmod(remainder, 3600)\n",
        "  mins, secs = divmod(remainder, 60)\n",
        "\n",
        "  if da:\n",
        "      print(f'{int(da)} days {int(hrs)} hours {int(mins)} minutes {int(secs)} seconds elapsed')\n",
        "  elif hrs:\n",
        "      print(f'{int(hrs)} hours {int(mins)} minutes {int(secs)} seconds elapsed')\n",
        "  elif mins:\n",
        "      print(f'{int(mins)} minutes {int(secs)} seconds elapsed')\n",
        "  elif secs >= 1.0:\n",
        "      print(f'{int(secs)} seconds elapsed')\n",
        "  else:\n",
        "      print(f'{secs:.2} seconds elapsed')\n",
        "        \n",
        "print('timer functions loaded')"
      ],
      "execution_count": null,
      "outputs": []
    },
    {
      "cell_type": "markdown",
      "metadata": {
        "id": "-a1LjbX2_Gd8",
        "colab_type": "text"
      },
      "source": [
        "# Investigating what's available in Gaia\n",
        "Load and look at the available Gaia tables."
      ]
    },
    {
      "cell_type": "code",
      "metadata": {
        "id": "HnYE_rOT_Gd8",
        "colab_type": "code",
        "colab": {}
      },
      "source": [
        "timer_start()\n",
        "tables = Gaia.load_tables(only_names=False)\n",
        "timer_stop()"
      ],
      "execution_count": null,
      "outputs": []
    },
    {
      "cell_type": "code",
      "metadata": {
        "id": "W-GTSG7v_Gd_",
        "colab_type": "code",
        "colab": {}
      },
      "source": [
        "# print the ith table name and description\n",
        "i=93\n",
        "print(tables[i].get_qualified_name())\n",
        "print(tables[i].description)"
      ],
      "execution_count": null,
      "outputs": []
    },
    {
      "cell_type": "code",
      "metadata": {
        "id": "wkd5RSkN_GeB",
        "colab_type": "code",
        "colab": {}
      },
      "source": [
        "# print all table names and descriptions in gaia database\n",
        "for n, table in enumerate(tables):\n",
        "    print(f'{n} {table.get_qualified_name()[:50]:50}', table.description.replace(\"\\n\", \" \"))"
      ],
      "execution_count": null,
      "outputs": []
    },
    {
      "cell_type": "code",
      "metadata": {
        "id": "d7tsnesv_GeE",
        "colab_type": "code",
        "colab": {}
      },
      "source": [
        "# Build a sample query. Specifying \"TOP 20\" limits the results to 20 rows.\n",
        "myquery = 'SELECT TOP 20 * FROM gaiadr2.gaia_source'\n",
        "\n",
        "# Run the query and store the results\n",
        "timer_start()\n",
        "job = Gaia.launch_job(myquery, dump_to_file=False)\n",
        "timer_stop()"
      ],
      "execution_count": null,
      "outputs": []
    },
    {
      "cell_type": "markdown",
      "metadata": {
        "id": "ob9GcFn-_GeG",
        "colab_type": "text"
      },
      "source": [
        "Note that `myquery` uses ADQL (Astronomical Data Query Language), similar to Structured Query Language (SQL). For examples and a description of ADQL, see https://gaia.ac.uk/data/gaia-data-release-1/adql-cookbook. \\\n",
        "`job` now contains names and descriptions for each column in the database. (Note this is true as long as the `dump_to_file` parameter is `False` in the above call to `launch_job`).\n",
        "\n",
        "Let's `print(job)` to see info on available columns."
      ]
    },
    {
      "cell_type": "code",
      "metadata": {
        "scrolled": false,
        "id": "uAvbGgSC_GeG",
        "colab_type": "code",
        "colab": {}
      },
      "source": [
        "print(job)"
      ],
      "execution_count": null,
      "outputs": []
    },
    {
      "cell_type": "code",
      "metadata": {
        "id": "WyUneEq-_GeI",
        "colab_type": "code",
        "colab": {}
      },
      "source": [
        "# Convert our AstroPy data into a pandas dataframe\n",
        "sample_df = (job.get_results()).to_pandas()"
      ],
      "execution_count": null,
      "outputs": []
    },
    {
      "cell_type": "code",
      "metadata": {
        "id": "z6Hcw9PT_GeK",
        "colab_type": "code",
        "colab": {}
      },
      "source": [
        "# Check that we got a pandas dataframe\n",
        "type(sample_df)"
      ],
      "execution_count": null,
      "outputs": []
    },
    {
      "cell_type": "code",
      "metadata": {
        "id": "3u0Ecx-6_GeM",
        "colab_type": "code",
        "colab": {}
      },
      "source": [
        "# Take a look at the first 5 rows\n",
        "sample_df.head()"
      ],
      "execution_count": null,
      "outputs": []
    },
    {
      "cell_type": "code",
      "metadata": {
        "id": "G7sAgK79_GeO",
        "colab_type": "code",
        "colab": {}
      },
      "source": [
        "# alternate method for looking at column names\n",
        "for col in sample_df.columns:\n",
        "    print(col)"
      ],
      "execution_count": null,
      "outputs": []
    },
    {
      "cell_type": "markdown",
      "metadata": {
        "id": "-myWEkIo_GeQ",
        "colab_type": "text"
      },
      "source": [
        "# Getting data for a star cluster\n",
        "Now let's retrieve data centered on the Pleiades cluster. \\\n",
        "<img src=\"https://earthsky.org/upl/2018/11/pleiades-seven-sisters-nov2019-e1572962425736.jpg\" width=800 />\n",
        "\n",
        "Image credit: Steve Paukin captured this image in his back yard in Winslow, Arizona on November 3, 2019. \\\n",
        "https://earthsky.org/favorite-star-patterns/pleiades-star-cluster-enjoys-worldwide-renown"
      ]
    },
    {
      "cell_type": "markdown",
      "metadata": {
        "id": "2tWgzt2M-XEj",
        "colab_type": "text"
      },
      "source": [
        "Let's look up where the Pleiades are in the sky and how big the cluster appears. We'll convert to decimal degress. Here's data from https://en.wikipedia.org/wiki/Pleiades:\n",
        "\n",
        "| Observation data (J2000 epoch) |                                   |\n",
        "| ------------------------------ | --------------------------------- |\n",
        "| Constellation                  | Taurus                            |\n",
        "| Right ascension                | 03h 47m 24s                       |\n",
        "| Declination                    | +24° 07′ 00″                      |\n",
        "| Distance                       | 444 ly on average (136.2±1.2 pc)  |\n",
        "| Apparent magnitude (V)         | 1.6                               |\n",
        "| Apparent dimensions (V)        | 110' (arcmin)                     |\n",
        "| **Physical characteristics**   |                                   |\n",
        "| Other designations             | Seven Sisters, M45, Cr 42, Mel 22 |\n",
        "\n",
        "This data is often given in degrees, minutes, and seconds. We'll make convenience functions to convert degrees, minutes, seconds and hours, minutes, seconds to decimal degrees."
      ]
    },
    {
      "cell_type": "code",
      "metadata": {
        "id": "nsru5CxAEWHb",
        "colab_type": "code",
        "colab": {}
      },
      "source": [
        "def dms_to_dd(d, m, s):\n",
        "    dd = d + float(m)/60 + float(s)/3600\n",
        "    return dd\n",
        "\n",
        "def hms_to_dd(h, m, s):\n",
        "    dd = h*15 + float(m)/4 + float(s)/240\n",
        "    return dd"
      ],
      "execution_count": null,
      "outputs": []
    },
    {
      "cell_type": "markdown",
      "metadata": {
        "id": "8RZZi0X9EeJ_",
        "colab_type": "text"
      },
      "source": [
        "In the above table, right ascension is given as 03h 47m 24s. In decimal degrees, that would be:"
      ]
    },
    {
      "cell_type": "code",
      "metadata": {
        "id": "TFdbqiWCEZr_",
        "colab_type": "code",
        "colab": {}
      },
      "source": [
        "hms_to_dd(3, 47, 24)"
      ],
      "execution_count": null,
      "outputs": []
    },
    {
      "cell_type": "markdown",
      "metadata": {
        "id": "WkffNZkxHWh4",
        "colab_type": "text"
      },
      "source": [
        "Converting declination 24º 7' 0\" to decimal degrees gives:"
      ]
    },
    {
      "cell_type": "code",
      "metadata": {
        "id": "zf8s4evmHh6X",
        "colab_type": "code",
        "colab": {}
      },
      "source": [
        "dms_to_dd(24, 7, 0)"
      ],
      "execution_count": null,
      "outputs": []
    },
    {
      "cell_type": "markdown",
      "metadata": {
        "id": "vZOkSXYLHq1M",
        "colab_type": "text"
      },
      "source": [
        "Finally, we will look at this part of the sky with a search radius of 110' (arcminutes). In decimal degrees, that's:"
      ]
    },
    {
      "cell_type": "code",
      "metadata": {
        "id": "aQG1DFx0H5x-",
        "colab_type": "code",
        "colab": {}
      },
      "source": [
        "dms_to_dd(0, 110, 0)"
      ],
      "execution_count": null,
      "outputs": []
    },
    {
      "cell_type": "markdown",
      "metadata": {
        "id": "8RlBEOG749PT",
        "colab_type": "text"
      },
      "source": [
        "Now were ready to ask Gaia for stars at coordinates (56.85, 24.1167) with a search radius of 1.8333º. We don't need data from all columns. Let's specify:<br><br>\n",
        "apparent magnitude, `phot_g_mean_mag` and rename it as `gmag` \\\n",
        "right ascension,    `ra` \\\n",
        "declination,        `dec` \\\n",
        "parallax,           `parallax` renamed as `plx` \\\n",
        "color (bp-rp),      `bp_rp` \\\n",
        "luminosity in solar units, `lum_val` \\\n",
        "effective temperature, `teff_val` \\\n",
        "radius in solar radii, `radius_val`\n",
        "\n",
        "We also want absolute magnitude and distance in light years, but we can calculate these from the above data."
      ]
    },
    {
      "cell_type": "code",
      "metadata": {
        "id": "PGu4gGt4_GeS",
        "colab_type": "code",
        "colab": {}
      },
      "source": [
        "timer_start()\n",
        "job = Gaia.launch_job(\"SELECT phot_g_mean_mag as gmag, ra, dec, parallax as plx, bp_rp, lum_val, teff_val, radius_val \\\n",
        "FROM gaiadr2.gaia_source \\\n",
        "WHERE CONTAINS(POINT('ICRS',ra,dec),CIRCLE('ICRS',56.85,24.1167,1.8333))=1 \\\n",
        "AND parallax IS NOT NULL AND abs(parallax)>0 \\\n",
        "AND parallax_over_error>10 \\\n",
        "AND abs(pmra_error/pmra)<0.10 \\\n",
        "AND abs(pmdec_error/pmdec)<0.10 \\\n",
        "AND pmra IS NOT NULL AND abs(pmra)>0 \\\n",
        "AND pmdec IS NOT NULL AND abs(pmdec)>0 \\\n",
        "AND pmra BETWEEN 15 AND 25 \\\n",
        "AND pmdec BETWEEN -55 AND -40;\"\n",
        ", dump_to_file=False)\n",
        "timer_stop()"
      ],
      "execution_count": null,
      "outputs": []
    },
    {
      "cell_type": "code",
      "metadata": {
        "id": "Rf7VGT0O_GeT",
        "colab_type": "code",
        "colab": {}
      },
      "source": [
        "print(job)"
      ],
      "execution_count": null,
      "outputs": []
    },
    {
      "cell_type": "code",
      "metadata": {
        "id": "gy14zXcH_GeV",
        "colab_type": "code",
        "colab": {}
      },
      "source": [
        "# load results into a pandas dataframe\n",
        "df = (job.get_results()).to_pandas()\n",
        "\n",
        "for col in df.columns:\n",
        "    print(col)"
      ],
      "execution_count": null,
      "outputs": []
    },
    {
      "cell_type": "markdown",
      "metadata": {
        "id": "XVVWGtTn_Geh",
        "colab_type": "text"
      },
      "source": [
        "Solving for absolute magnitude, $M$, from apparant magnitude, $m$ (which we have in column `gmag`). We'll use the formula for the distance modulus, $m - M$:\n",
        "$$m - M = 5\\cdot\\log{d} - 5$$<br>\n",
        "$$m - 5\\cdot\\log{d} + 5 = M$$<br>\n",
        "Note that $d = 1/\\omega$, where $d$ is distance measured in parsecs and $\\omega$ is parallax measured in arcseconds.<br>\n",
        "Our data column, `plx`, is parallax measured in milliarcseconds, so $\\omega = $ `plx` $/1000$ and $d = 1000/$`plx`<br>\n",
        "$$m - 5\\cdot\\log{\\frac{1}{\\omega}} + 5 = M$$<br>\n",
        "$$m - 5\\cdot\\log{\\frac{1000}{\\mathtt{plx}}} + 5 = M$$<br>\n",
        "$$m - 5(\\log{1000} - \\log{\\mathtt{plx}}) + 5 = M$$<br>\n",
        "$$m - 5(3 - \\log{\\mathtt{plx}}) + 5 = M$$<br>\n",
        "$$m - 15 + 5\\cdot\\log{\\mathtt{plx}} + 5 = M$$<br>\n",
        "$$m + 5\\cdot\\log{\\mathtt{plx}} - 10 = M$$<br>"
      ]
    },
    {
      "cell_type": "code",
      "metadata": {
        "id": "P3DkVAaC_Gej",
        "colab_type": "code",
        "colab": {}
      },
      "source": [
        "# calculate absolute magnitude and add a new column (M)\n",
        "df['M'] = df['gmag'] + 5*np.log10(df['plx']) - 10"
      ],
      "execution_count": null,
      "outputs": []
    },
    {
      "cell_type": "code",
      "metadata": {
        "id": "9A0qVqZB_Gek",
        "colab_type": "code",
        "colab": {}
      },
      "source": [
        "df['M'].describe()"
      ],
      "execution_count": null,
      "outputs": []
    },
    {
      "cell_type": "code",
      "metadata": {
        "id": "s6mfsWBe_Geo",
        "colab_type": "code",
        "colab": {}
      },
      "source": [
        "# calculate distance in LY and add a new data column\n",
        "# d = 1/p when distance (d) is in parsecs and parallax (p) is in arcseconds, or d = 1000/plx\n",
        "# There are 3.26156 light-years (LY) in one parsec, so LY = 3261.56/plx\n",
        "df['LY'] = 3261.56/df['plx']"
      ],
      "execution_count": null,
      "outputs": []
    },
    {
      "cell_type": "code",
      "metadata": {
        "id": "BQhNnDLP_Geq",
        "colab_type": "code",
        "colab": {}
      },
      "source": [
        "df['LY'].describe()"
      ],
      "execution_count": null,
      "outputs": []
    },
    {
      "cell_type": "markdown",
      "metadata": {
        "id": "Bn4tAZNq_Ger",
        "colab_type": "text"
      },
      "source": [
        "Now that we have absolute magnitude (column `M`), we can solve for luminosity in terms of multiples of luminosity of the sun, or $\\frac{L}{L_{☉}}$, using:\n",
        "$$M = +4.77 - 2.5 \\cdot log\\frac{L}{L_{☉}}$$<br>\n",
        "$$2.5 \\cdot log\\frac{L}{L_{☉}} = 4.77 - M$$<br>\n",
        "$$log\\frac{L}{L_{☉}} = \\frac{4.77 - M}{2.5}$$<br>\n",
        "$$\\frac{L}{L_{☉}} = 10^{\\frac{4.77 - M}{2.5}}$$<br>\n",
        "from http://hosting.astro.cornell.edu/academics/courses/astro201/mag_absolute.htm"
      ]
    },
    {
      "cell_type": "code",
      "metadata": {
        "id": "nyrcwkcy_Ger",
        "colab_type": "code",
        "colab": {}
      },
      "source": [
        "# add a new column ('L_sun') for luminosity in terms of multiples of solar luminosity\n",
        "df['L_sun'] = np.power(10,[(4.77-m)/2.5 for m in df['M']])"
      ],
      "execution_count": null,
      "outputs": []
    },
    {
      "cell_type": "code",
      "metadata": {
        "id": "jalDHJDa_Get",
        "colab_type": "code",
        "colab": {}
      },
      "source": [
        "df['L_sun'].describe()"
      ],
      "execution_count": null,
      "outputs": []
    },
    {
      "cell_type": "markdown",
      "metadata": {
        "id": "6ha9YoCc_Geu",
        "colab_type": "text"
      },
      "source": [
        "Our Gaia data already supplies luminosity (column `lum_val`) for some stars. Let's look at it. Note that `NaN`, for \"not a number\", appears when no data is provided."
      ]
    },
    {
      "cell_type": "code",
      "metadata": {
        "id": "fcs4BN1D_Geu",
        "colab_type": "code",
        "colab": {}
      },
      "source": [
        "df['lum_val']"
      ],
      "execution_count": null,
      "outputs": []
    },
    {
      "cell_type": "markdown",
      "metadata": {
        "id": "sHF0h424_Gew",
        "colab_type": "text"
      },
      "source": [
        "Let's look at just the stars that do have data (where the data is *not* null):"
      ]
    },
    {
      "cell_type": "code",
      "metadata": {
        "id": "pltijpAa_Gew",
        "colab_type": "code",
        "colab": {}
      },
      "source": [
        "df[df['lum_val'].isnull()==False]['lum_val']"
      ],
      "execution_count": null,
      "outputs": []
    },
    {
      "cell_type": "markdown",
      "metadata": {
        "id": "csjXENs_qnuK",
        "colab_type": "text"
      },
      "source": [
        "That's a shorter list! Let's get python to compute the percentage of stars that have luminosity data."
      ]
    },
    {
      "cell_type": "code",
      "metadata": {
        "id": "Dv78ZtVo_Gey",
        "colab_type": "code",
        "colab": {}
      },
      "source": [
        "len_good = len(df[df['lum_val'].isnull()==False])\n",
        "len_total = len(df)\n",
        "print(\"That's\", len_good, \"stars with luminosity data out of\", len_total, \n",
        "      f\"({len_good/len_total:.1%})\")\n",
        "\n",
        "len_good = len(df[df['teff_val'].isnull()==False])\n",
        "print(\"and looking ahead a bit, there are\", len_good, \"stars with temperature data out of\", len_total, \n",
        "      f\"({len_good/len_total:.1%})\")\n",
        "\n",
        "len_good = len(df[df['radius_val'].isnull()==False])\n",
        "print(\"and\", len_good, \"with radius data out of\", len_total, \n",
        "      f\"({len_good/len_total:.1%})\")"
      ],
      "execution_count": null,
      "outputs": []
    },
    {
      "cell_type": "markdown",
      "metadata": {
        "id": "na6mcyxi_Gez",
        "colab_type": "text"
      },
      "source": [
        "Let's make table of stars with provided luminosity (not null values) so we can compare our computed values."
      ]
    },
    {
      "cell_type": "code",
      "metadata": {
        "id": "NQf2yIrD_Gez",
        "colab_type": "code",
        "colab": {}
      },
      "source": [
        "compare_luminosity = df.loc[df['lum_val'].isnull()==False, # the condition we want to be true\n",
        "                            ['lum_val','L_sun']] # the columns that we want to put in the new table\n",
        "compare_luminosity"
      ],
      "execution_count": null,
      "outputs": []
    },
    {
      "cell_type": "markdown",
      "metadata": {
        "id": "6MWuMXt2_Ge0",
        "colab_type": "text"
      },
      "source": [
        "We can plot the values to see how they compare. Seaborn library contains a convenient linear regression function, `regplot()`, that draws a scatterplot of both columns with a regression line and shaded 95% confidence interval."
      ]
    },
    {
      "cell_type": "code",
      "metadata": {
        "id": "yISSbO7x_Ge0",
        "colab_type": "code",
        "colab": {}
      },
      "source": [
        "import matplotlib.pyplot as plt\n",
        "import seaborn as sns\n",
        "%matplotlib inline\n",
        "\n",
        "fig, axs = plt.subplots(nrows=1, figsize=(8,8))\n",
        "\n",
        "compare_lum = df.loc[df['lum_val'].isnull()==False, ['lum_val','L_sun']]\n",
        "lum = sns.regplot(compare_lum['lum_val'], compare_lum['L_sun'], ax=axs)\n",
        "lum.set(xlabel='Gaia data: lum_val', ylabel='Calculated L_sun')\n",
        "\n",
        "plt.show()"
      ],
      "execution_count": null,
      "outputs": []
    },
    {
      "cell_type": "markdown",
      "metadata": {
        "id": "_hw1W6pG_Ge1",
        "colab_type": "text"
      },
      "source": [
        "Solving for effective temperature in Kelvin, $T_K$, using:\n",
        "$$T_K = \\frac{5601 K}{(\\mathtt{color}+0.4)^{2/3}}$$<br>\n",
        "Note that this formula breaks when $\\mathtt{color} = -0.4$<br>\n",
        "from http://astro.physics.uiowa.edu/ITU/labs/professional-labs/photometry-of-a-globular/part-2-finding-temperature.html"
      ]
    },
    {
      "cell_type": "code",
      "metadata": {
        "id": "icB2iI1u_Ge2",
        "colab_type": "code",
        "colab": {}
      },
      "source": [
        "# check if any color values are < -0.4 or null\n",
        "df[(df['bp_rp']<=-0.4) | (df['bp_rp'].isnull()==True)]"
      ],
      "execution_count": null,
      "outputs": []
    },
    {
      "cell_type": "code",
      "metadata": {
        "id": "1uMmHG4t_Ge3",
        "colab_type": "code",
        "colab": {}
      },
      "source": [
        "# python trick: you can refer to the results of the previous code cell by the underscore character, \"_\".\n",
        "# use the underscore \"_\" to grab the length of the above table.\n",
        "length = len(_)\n",
        "print(\"So we'll have to lose\", length, \"stars\")"
      ],
      "execution_count": null,
      "outputs": []
    },
    {
      "cell_type": "code",
      "metadata": {
        "id": "zT53mUA6_Ge6",
        "colab_type": "code",
        "colab": {}
      },
      "source": [
        "print('# of stars before:', len(df))"
      ],
      "execution_count": null,
      "outputs": []
    },
    {
      "cell_type": "code",
      "metadata": {
        "id": "Sl3dhfVr_Ge7",
        "colab_type": "code",
        "colab": {}
      },
      "source": [
        "if length > 0:\n",
        "    df = df[df['bp_rp']>-0.4]\n",
        "    print(length, 'stars deleted')\n",
        "else:\n",
        "    print('no change needed')"
      ],
      "execution_count": null,
      "outputs": []
    },
    {
      "cell_type": "code",
      "metadata": {
        "id": "Pf8S07TI_GfA",
        "colab_type": "code",
        "colab": {}
      },
      "source": [
        "print('# of stars after:', len(df))"
      ],
      "execution_count": null,
      "outputs": []
    },
    {
      "cell_type": "code",
      "metadata": {
        "id": "l1SgxcyS_GfD",
        "colab_type": "code",
        "colab": {}
      },
      "source": [
        "# now we can add a new column ('T_K') for effective temperature in Kelvin\n",
        "df['T_K'] = [5601/np.power(c+0.4,2/3) for c in df['bp_rp']]"
      ],
      "execution_count": null,
      "outputs": []
    },
    {
      "cell_type": "code",
      "metadata": {
        "id": "mTDhL710_GfG",
        "colab_type": "code",
        "colab": {}
      },
      "source": [
        "df['T_K'].describe()"
      ],
      "execution_count": null,
      "outputs": []
    },
    {
      "cell_type": "markdown",
      "metadata": {
        "id": "e0D7w01L_GfH",
        "colab_type": "text"
      },
      "source": [
        "Now that we have $T_K$ and $\\frac{L}{L_☉}$, we can solve for radius in multiples of solar radii, $$\\frac{R}{R_☉}$$<br>\n",
        "using $$\\frac{R}{R_☉} = \\frac{\\sqrt{L/L_☉}}{(T_K/T_☉)^2}$$"
      ]
    },
    {
      "cell_type": "code",
      "metadata": {
        "scrolled": true,
        "id": "ZgMDxFXi_GfH",
        "colab_type": "code",
        "colab": {}
      },
      "source": [
        "df['R_sun']=np.around(np.sqrt(df['L_sun'])/(df['T_K']/5800)**2, decimals=2) # T_☉ = 5800"
      ],
      "execution_count": null,
      "outputs": []
    },
    {
      "cell_type": "code",
      "metadata": {
        "id": "3Z0Q8V1c_GfJ",
        "colab_type": "code",
        "colab": {}
      },
      "source": [
        "df['R_sun'].describe()"
      ],
      "execution_count": null,
      "outputs": []
    },
    {
      "cell_type": "code",
      "metadata": {
        "id": "2ur3ZZEFByy5",
        "colab_type": "code",
        "colab": {}
      },
      "source": [
        "df['R_sun'].max()/df['R_sun'].min()"
      ],
      "execution_count": null,
      "outputs": []
    },
    {
      "cell_type": "markdown",
      "metadata": {
        "id": "1n-OtKGF_GfK",
        "colab_type": "text"
      },
      "source": [
        "Let's see how our calculated values for effective surface temperature in Kelvin, `T_K`, and radius in multiples of solar radius, `R_sun` compare to Gaia's data (for some stars) in columns `teff_val`, and `radius_val`.\n",
        "\n",
        "Let's look at Gaia's effective temperature and solar radius data."
      ]
    },
    {
      "cell_type": "code",
      "metadata": {
        "id": "X_LXtKjL_GfL",
        "colab_type": "code",
        "colab": {}
      },
      "source": [
        "df['teff_val']"
      ],
      "execution_count": null,
      "outputs": []
    },
    {
      "cell_type": "code",
      "metadata": {
        "id": "GGkTyr-R_GfM",
        "colab_type": "code",
        "colab": {}
      },
      "source": [
        "df['radius_val']"
      ],
      "execution_count": null,
      "outputs": []
    },
    {
      "cell_type": "markdown",
      "metadata": {
        "id": "lZa0J2UB_GfO",
        "colab_type": "text"
      },
      "source": [
        "As we did earlier with luminosity data, let's make tables of stars with provided non-null temperature and radius values and draw regression plots so we can compare our computed values."
      ]
    },
    {
      "cell_type": "code",
      "metadata": {
        "id": "tRTqPy_5_GfP",
        "colab_type": "code",
        "colab": {}
      },
      "source": [
        "fig, axs = plt.subplots(nrows=2, figsize=(8,16))\n",
        "\n",
        "compare_temp = df.loc[df['teff_val'].isnull()==False, ['teff_val', 'T_K']]\n",
        "temp = sns.regplot(compare_temp['teff_val'], compare_temp['T_K'], ax=axs[0])\n",
        "temp.set(xlabel='Gaia data: teff_val', ylabel='Calculated T_K')\n",
        "\n",
        "compare_rad = df.loc[df['radius_val'].isnull()==False, ['radius_val', 'R_sun']]\n",
        "rad = sns.regplot(compare_rad['radius_val'], compare_rad['R_sun'], ax=axs[1])\n",
        "rad.set(xlabel='Gaia data: radius_val', ylabel='Calculated R_sun')\n",
        "\n",
        "plt.show()"
      ],
      "execution_count": null,
      "outputs": []
    },
    {
      "cell_type": "markdown",
      "metadata": {
        "id": "mAsVSW5q_GfQ",
        "colab_type": "text"
      },
      "source": [
        "Let's plot right ascension and declination for our cluster and display brighter stars with larger dots and more vibrant colors."
      ]
    },
    {
      "cell_type": "markdown",
      "metadata": {
        "id": "32SLgQfruD4m",
        "colab_type": "text"
      },
      "source": [
        "We can't use apparent brightness, `'gmag'`, directly to show brighter stars with larger dots and brighter colors because magnitude is a scale with an \"inverted\" sense (dimmer stars have larger values). Let's reverse the values just for this plot. "
      ]
    },
    {
      "cell_type": "code",
      "metadata": {
        "id": "45o0u0X5EWZM",
        "colab_type": "code",
        "colab": {}
      },
      "source": [
        "# subtract apparent brightness ('gmag') from the largest value to give the brightest stars large values and the dimmest stars small ones (the opposite of the apparent magnitude scale)\n",
        "brightness = df['gmag'].max()-df['gmag']\n",
        "brightness.name = 'brightness'\n",
        "brightness.describe()"
      ],
      "execution_count": null,
      "outputs": []
    },
    {
      "cell_type": "code",
      "metadata": {
        "id": "kVhPF-HT_GfX",
        "colab_type": "code",
        "colab": {}
      },
      "source": [
        "plt.style.use('dark_background')\n",
        "sns.relplot(x='ra', y='dec', height=9, aspect=1.2, alpha=0.8, edgecolor=None,\n",
        "                size=brightness,\n",
        "                hue=brightness,\n",
        "                palette='mako', \n",
        "                data=df, \n",
        "               )\n",
        "plt.title('The Pleiades in the Night Sky')\n",
        "\n",
        "plt.show()"
      ],
      "execution_count": null,
      "outputs": []
    },
    {
      "cell_type": "markdown",
      "metadata": {
        "id": "05u-MioewUQ9",
        "colab_type": "text"
      },
      "source": [
        "# HR Diagram\n",
        "\n",
        "Let's plot color vs. absolute magnitude."
      ]
    },
    {
      "cell_type": "code",
      "metadata": {
        "id": "keFkLq1SiiWd",
        "colab_type": "code",
        "colab": {}
      },
      "source": [
        "sns.relplot(x='bp_rp', y='M', height=8.5, aspect=1.2, legend=None,\n",
        "            #edgecolor=None,\n",
        "            hue='bp_rp',\n",
        "            palette='coolwarm',\n",
        "            size='R_sun',\n",
        "            sizes=(1,df['R_sun'].max()/df['R_sun'].min()),\n",
        "            data=df\n",
        "            )\n",
        "plt.ylim(df['M'].max()+1, df['M'].min()-1)\n",
        "plt.xlabel('Color (bp - rp)')\n",
        "plt.ylabel('Absolute Magnitude')\n",
        "plt.title('Hertzsprung-Russel Diagram of the Pleiades')\n",
        "\n",
        "plt.show()"
      ],
      "execution_count": null,
      "outputs": []
    },
    {
      "cell_type": "markdown",
      "metadata": {
        "id": "nDcmVZvfKrlw",
        "colab_type": "text"
      },
      "source": [
        "Now go look up the Hyades star cluster and\n",
        "* plot ra/dec--remember to:\n",
        "    * invert apparant magnitude (column `'gmag'`) for the plot\n",
        "* make an HR diagram--note that you'll need to:\n",
        "    * calculate absolute magnitude\n",
        "    * calculate radius and\n",
        "    * \"clean\" the data by getting rid of stars with null color data (column `'bp_rp'`)\n",
        "\n",
        "\n",
        "<img src=\"https://www.constellation-guide.com/wp-content/uploads/2012/10/Hyades.jpg\" width=800 />\n",
        "\n",
        "Image credit: taken December 20, 2006 at 7:36pm EST by Todd Vance"
      ]
    },
    {
      "cell_type": "code",
      "metadata": {
        "id": "4ZfBBMzMLrPE",
        "colab_type": "code",
        "colab": {}
      },
      "source": [
        ""
      ],
      "execution_count": null,
      "outputs": []
    }
  ]
}