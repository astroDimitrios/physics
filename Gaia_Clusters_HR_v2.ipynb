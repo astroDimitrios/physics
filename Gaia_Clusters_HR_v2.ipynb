{
  "nbformat": 4,
  "nbformat_minor": 0,
  "metadata": {
    "kernelspec": {
      "display_name": "Python 3",
      "language": "python",
      "name": "python3"
    },
    "language_info": {
      "codemirror_mode": {
        "name": "ipython",
        "version": 3
      },
      "file_extension": ".py",
      "mimetype": "text/x-python",
      "name": "python",
      "nbconvert_exporter": "python",
      "pygments_lexer": "ipython3",
      "version": "3.7.7"
    },
    "colab": {
      "name": "Gaia-Clusters-HR-v2.ipynb",
      "provenance": [],
      "collapsed_sections": [],
      "include_colab_link": true
    }
  },
  "cells": [
    {
      "cell_type": "markdown",
      "metadata": {
        "id": "view-in-github",
        "colab_type": "text"
      },
      "source": [
        "<a href=\"https://colab.research.google.com/github/swshadle/physics/blob/master/Gaia_Clusters_HR_v2.ipynb\" target=\"_parent\"><img src=\"https://colab.research.google.com/assets/colab-badge.svg\" alt=\"Open In Colab\"/></a>"
      ]
    },
    {
      "cell_type": "markdown",
      "metadata": {
        "id": "0YFnh8WA_Gdg",
        "colab_type": "text"
      },
      "source": [
        "# Retrieving Clusters from Gaia with Hertzsprung-Russell Diagram\n",
        "\n",
        "Learn how to retrieve [Gaia mission](https://sci.esa.int/web/gaia) data from within Google Colab. In this lab, we'll retrieve apparent brightness, location in the night sky (right ascension and declination), distance from earth, and color (how red or blue) information for one particular one star cluster, [the Pleiades](https://en.wikipedia.org/wiki/Pleiades). We'll also use the tools of astrophysics to calculate absolute magnitude, luminosity, surface temperature, and size from the Gaia-supplied data.\n",
        "\n",
        "Partially based on [Gaia Python Tutorial: Cluster Analysis](https://gea.esac.esa.int/archive-help/tutorials/python_cluster/index.html)\n",
        "\n",
        "If you're new to Python or Google Colab, press shift-enter on each cell to step through the code (or click the play button in the top-left of each code cell).\n",
        "\n",
        "**STUDENTS:**\n",
        "The code shows you how to retrieve and clean Gaia data, calculate new properties, and plot right ascension/declination and Hertzsprung-Russell diagrams for the Pleiades star cluster. Your assignment at the end will be to repeat this process for the Hyades cluster.\n",
        "\n",
        "**INSTRUCTORS:**\n",
        "I've left in all code outputs for you to preview. Before unleashing the code on your students, please clear all outputs to hide the results until your students run the code. In Colab, Edit->Clear all outputs.\n",
        "\n",
        "Feedback is welcome. I'd love to hear if you modify and/or use the code in your class. swshadle@gmail.com"
      ]
    },
    {
      "cell_type": "code",
      "metadata": {
        "id": "-N_Mx4nc_Gdj",
        "colab_type": "code",
        "colab": {
          "base_uri": "https://localhost:8080/",
          "height": 615
        },
        "outputId": "f51669d9-9e0b-485b-ff4e-227afe38f389"
      },
      "source": [
        "# Install astroquery package to talk to Gaia database\n",
        "%pip install astroquery"
      ],
      "execution_count": 1,
      "outputs": [
        {
          "output_type": "stream",
          "text": [
            "Collecting astroquery\n",
            "\u001b[?25l  Downloading https://files.pythonhosted.org/packages/1b/f8/4690523783691ed816b3469c3ec611af3798594d37ade510dd918d59f57e/astroquery-0.4.1.tar.gz (6.5MB)\n",
            "\u001b[K     |████████████████████████████████| 6.5MB 6.8MB/s \n",
            "\u001b[?25hRequirement already satisfied: numpy in /usr/local/lib/python3.6/dist-packages (from astroquery) (1.18.5)\n",
            "Requirement already satisfied: astropy>=3.1 in /usr/local/lib/python3.6/dist-packages (from astroquery) (4.0.1.post1)\n",
            "Requirement already satisfied: requests>=2.4.3 in /usr/local/lib/python3.6/dist-packages (from astroquery) (2.23.0)\n",
            "Collecting keyring>=4.0\n",
            "  Downloading https://files.pythonhosted.org/packages/e4/ed/7be20815f248b0d6aae406783c2bee392640924623c4e17b50ca90c7f74d/keyring-21.4.0-py3-none-any.whl\n",
            "Requirement already satisfied: beautifulsoup4>=4.3.2 in /usr/local/lib/python3.6/dist-packages (from astroquery) (4.6.3)\n",
            "Requirement already satisfied: html5lib>=0.999 in /usr/local/lib/python3.6/dist-packages (from astroquery) (1.0.1)\n",
            "Requirement already satisfied: six in /usr/local/lib/python3.6/dist-packages (from astroquery) (1.15.0)\n",
            "Requirement already satisfied: chardet<4,>=3.0.2 in /usr/local/lib/python3.6/dist-packages (from requests>=2.4.3->astroquery) (3.0.4)\n",
            "Requirement already satisfied: idna<3,>=2.5 in /usr/local/lib/python3.6/dist-packages (from requests>=2.4.3->astroquery) (2.10)\n",
            "Requirement already satisfied: certifi>=2017.4.17 in /usr/local/lib/python3.6/dist-packages (from requests>=2.4.3->astroquery) (2020.6.20)\n",
            "Requirement already satisfied: urllib3!=1.25.0,!=1.25.1,<1.26,>=1.21.1 in /usr/local/lib/python3.6/dist-packages (from requests>=2.4.3->astroquery) (1.24.3)\n",
            "Collecting SecretStorage>=3; sys_platform == \"linux\"\n",
            "  Downloading https://files.pythonhosted.org/packages/c3/50/8a02cad020e949e6d7105f5f4530d41e3febcaa5b73f8f2148aacb3aeba5/SecretStorage-3.1.2-py3-none-any.whl\n",
            "Requirement already satisfied: importlib-metadata; python_version < \"3.8\" in /usr/local/lib/python3.6/dist-packages (from keyring>=4.0->astroquery) (1.7.0)\n",
            "Collecting jeepney>=0.4.2; sys_platform == \"linux\"\n",
            "  Downloading https://files.pythonhosted.org/packages/79/31/2e8d42727595faf224c6dbb748c32b192e212f25495fe841fb7ce8e168b8/jeepney-0.4.3-py3-none-any.whl\n",
            "Requirement already satisfied: webencodings in /usr/local/lib/python3.6/dist-packages (from html5lib>=0.999->astroquery) (0.5.1)\n",
            "Collecting cryptography\n",
            "\u001b[?25l  Downloading https://files.pythonhosted.org/packages/33/62/30f6936941d87a5ed72efb24249437824f6b2c953901245b58c91fde2f27/cryptography-3.1.1-cp35-abi3-manylinux2010_x86_64.whl (2.6MB)\n",
            "\u001b[K     |████████████████████████████████| 2.6MB 45.2MB/s \n",
            "\u001b[?25hRequirement already satisfied: zipp>=0.5 in /usr/local/lib/python3.6/dist-packages (from importlib-metadata; python_version < \"3.8\"->keyring>=4.0->astroquery) (3.1.0)\n",
            "Requirement already satisfied: cffi!=1.11.3,>=1.8 in /usr/local/lib/python3.6/dist-packages (from cryptography->SecretStorage>=3; sys_platform == \"linux\"->keyring>=4.0->astroquery) (1.14.2)\n",
            "Requirement already satisfied: pycparser in /usr/local/lib/python3.6/dist-packages (from cffi!=1.11.3,>=1.8->cryptography->SecretStorage>=3; sys_platform == \"linux\"->keyring>=4.0->astroquery) (2.20)\n",
            "Building wheels for collected packages: astroquery\n",
            "  Building wheel for astroquery (setup.py) ... \u001b[?25l\u001b[?25hdone\n",
            "  Created wheel for astroquery: filename=astroquery-0.4.1-cp36-none-any.whl size=3831873 sha256=2b26877216b4a88917f5c163737bfca7c52352b6c6331af9b956c79b17d5316f\n",
            "  Stored in directory: /root/.cache/pip/wheels/88/f8/b7/a254cd96e808f708bc0b7d755a8e095c56fbbe94099d7b464f\n",
            "Successfully built astroquery\n",
            "Installing collected packages: jeepney, cryptography, SecretStorage, keyring, astroquery\n",
            "Successfully installed SecretStorage-3.1.2 astroquery-0.4.1 cryptography-3.1.1 jeepney-0.4.3 keyring-21.4.0\n"
          ],
          "name": "stdout"
        }
      ]
    },
    {
      "cell_type": "code",
      "metadata": {
        "id": "bl_JbGZo_Gdp",
        "colab_type": "code",
        "colab": {
          "base_uri": "https://localhost:8080/",
          "height": 204
        },
        "outputId": "f7c06cbb-2f0e-45c1-a04b-bd0b95cf008a"
      },
      "source": [
        "from astroquery.gaia import Gaia\n",
        "\n",
        "# Import data science packages\n",
        "import pandas as pd\n",
        "\n",
        "# Import NumPy to do mathy stuff\n",
        "import numpy as np\n",
        "\n",
        "print('modules imported')"
      ],
      "execution_count": 2,
      "outputs": [
        {
          "output_type": "stream",
          "text": [
            "Created TAP+ (v1.2.1) - Connection:\n",
            "\tHost: gea.esac.esa.int\n",
            "\tUse HTTPS: True\n",
            "\tPort: 443\n",
            "\tSSL Port: 443\n",
            "Created TAP+ (v1.2.1) - Connection:\n",
            "\tHost: geadata.esac.esa.int\n",
            "\tUse HTTPS: True\n",
            "\tPort: 443\n",
            "\tSSL Port: 443\n",
            "modules imported\n"
          ],
          "name": "stdout"
        }
      ]
    },
    {
      "cell_type": "code",
      "metadata": {
        "id": "jlaMAPR0_Gdw",
        "colab_type": "code",
        "colab": {
          "base_uri": "https://localhost:8080/",
          "height": 34
        },
        "outputId": "a06c12c5-b7c6-407b-c0c4-dead855df8c8"
      },
      "source": [
        "# Suppress warnings. Comment this out (put #'s at the start of the lines) if you wish to see the warning messages\n",
        "import warnings\n",
        "warnings.filterwarnings('ignore')\n",
        "print('warnings suppressed')"
      ],
      "execution_count": 3,
      "outputs": [
        {
          "output_type": "stream",
          "text": [
            "warnings suppressed\n"
          ],
          "name": "stdout"
        }
      ]
    },
    {
      "cell_type": "markdown",
      "metadata": {
        "id": "1BkJ9s1U_Gd4",
        "colab_type": "text"
      },
      "source": [
        "Add timing functions to measure how long database queries take."
      ]
    },
    {
      "cell_type": "code",
      "metadata": {
        "id": "SqyiwSwq_Gd4",
        "colab_type": "code",
        "colab": {
          "base_uri": "https://localhost:8080/",
          "height": 34
        },
        "outputId": "f613f4e7-8021-45e4-ba83-8fd3eaf67af2"
      },
      "source": [
        "from datetime import datetime\n",
        "\n",
        "def timer_start():\n",
        "  global start_time\n",
        "  start_time = datetime.now()\n",
        "\n",
        "def timer_stop():\n",
        "  time_elapsed = datetime.now() - start_time\n",
        "\n",
        "  da, remainder  = divmod(time_elapsed.total_seconds(), 24*3600)\n",
        "  hrs, remainder = divmod(remainder, 3600)\n",
        "  mins, secs = divmod(remainder, 60)\n",
        "\n",
        "  if da:\n",
        "      print(f'{int(da)} days {int(hrs)} hours {int(mins)} minutes {int(secs)} seconds elapsed')\n",
        "  elif hrs:\n",
        "      print(f'{int(hrs)} hours {int(mins)} minutes {int(secs)} seconds elapsed')\n",
        "  elif mins:\n",
        "      print(f'{int(mins)} minutes {int(secs)} seconds elapsed')\n",
        "  elif secs >= 1.0:\n",
        "      print(f'{int(secs)} seconds elapsed')\n",
        "  else:\n",
        "      print(f'{secs:.2} seconds elapsed')\n",
        "        \n",
        "print('timer functions loaded')"
      ],
      "execution_count": 5,
      "outputs": [
        {
          "output_type": "stream",
          "text": [
            "timer functions loaded\n"
          ],
          "name": "stdout"
        }
      ]
    },
    {
      "cell_type": "markdown",
      "metadata": {
        "id": "-a1LjbX2_Gd8",
        "colab_type": "text"
      },
      "source": [
        "# Investigating what's available in Gaia\n",
        "Load and look at the available Gaia tables."
      ]
    },
    {
      "cell_type": "code",
      "metadata": {
        "id": "HnYE_rOT_Gd8",
        "colab_type": "code",
        "colab": {
          "base_uri": "https://localhost:8080/",
          "height": 85
        },
        "outputId": "198fda80-8829-4f74-f609-c90858d8a175"
      },
      "source": [
        "timer_start()\n",
        "tables = Gaia.load_tables(only_names=False)\n",
        "timer_stop()"
      ],
      "execution_count": 6,
      "outputs": [
        {
          "output_type": "stream",
          "text": [
            "INFO: Retrieving tables... [astroquery.utils.tap.core]\n",
            "INFO: Parsing tables... [astroquery.utils.tap.core]\n",
            "INFO: Done. [astroquery.utils.tap.core]\n",
            "1 seconds elapsed\n"
          ],
          "name": "stdout"
        }
      ]
    },
    {
      "cell_type": "code",
      "metadata": {
        "id": "W-GTSG7v_Gd_",
        "colab_type": "code",
        "colab": {
          "base_uri": "https://localhost:8080/",
          "height": 119
        },
        "outputId": "e814fdc8-3bd6-4d2d-f5bd-8a2ad901b445"
      },
      "source": [
        "# print the ith table name and description\n",
        "i=93\n",
        "print(tables[i].get_qualified_name())\n",
        "print(tables[i].description)"
      ],
      "execution_count": 7,
      "outputs": [
        {
          "output_type": "stream",
          "text": [
            "gaiadr2.gaiadr2.gaia_source\n",
            "This table has an entry for every Gaia observed source as listed in the\n",
            "Main Database accumulating catalogue version from which the catalogue\n",
            "release has been generated. It contains the basic source parameters,\n",
            "that is only final data (no epoch data) and no spectra (neither final\n",
            "nor epoch).\n"
          ],
          "name": "stdout"
        }
      ]
    },
    {
      "cell_type": "code",
      "metadata": {
        "id": "wkd5RSkN_GeB",
        "colab_type": "code",
        "colab": {
          "base_uri": "https://localhost:8080/",
          "height": 1000
        },
        "outputId": "9236fd79-b67d-47be-dc06-0baedc502ff8"
      },
      "source": [
        "# print all table names and descriptions in gaia database\n",
        "for n, table in enumerate(tables):\n",
        "    # print(f'{n} {table.get_qualified_name()}\\n', table.description.replace(\"\\n\", \" \"), '\\n') # this looks better in Anaconda\n",
        "    print(f'{n} {table.get_qualified_name()[:50]:50}', table.description.replace(\"\\n\", \" \")) # this looks better in Google CoLab"
      ],
      "execution_count": 10,
      "outputs": [
        {
          "output_type": "stream",
          "text": [
            "0 external.external.apassdr9\n",
            " The AAVSO Photometric All-Sky Survey - Data Release 9     This publication makes use of data products from the AAVSO     Photometric All Sky Survey (APASS). Funded by the Robert Martin Ayers     Sciences Fund and the National Science Foundation. Original catalogue released by Henden et al. 2015 AAS Meeting #225, id.336.16. Data retrieved using the VizieR catalogue access tool, CDS, Strasbourg, France. The original description of the VizieR service was published in A&AS 143, 23. VizieR catalogue II/336. \n",
            "\n",
            "1 external.external.gaiadr2_geometric_distance\n",
            " Estimating distances from parallaxes IV: Distances to 1.33 billion stars in Gaia Data Release 2. Bailer-Jones et al. 2018 AJ 156:58, https://doi.org/10.3847/1538-3881/aacb21. The catalogue provides distances estimates (and uncertainties therein) for 1.33 billion stars over the whole sky brighter than about G=20.7. These have been estimated using the parallaxes (and their uncertainties) from Gaia data release 2. A Bayesian procedure was used involving a prior with a single parameter L(l,b), which varies smoothly with Galactic longitude and latitude according to a Galaxy model. The posterior is summarized with a point estimate (usually the mode) and a confidence interval (usually the 68% highest density interval). The estimation procedure is described in detail in the accompanying paper, which also analyses the catalogue content. The catalogue comprises one table with 1.33 billion rows and seven columns. The accompanying paper explains under what circumstances the different estimates/modality occur. These should not be mixed in any statistical analyses. Around 99.9% of all sources have result_flag=1 and modality_flag=1. \n",
            "\n",
            "2 external.external.galex_ais\n",
            " The revised GALEX catalog of UV sources (GUVcat_AIS) from GR6+7 (82,992,086 sources). Reference: The ultraviolet sky: An overview from the GALEX surveys https://doi.org/10.1016/j.asr.2013.07.045 Bibliographic Code: 2017ApJS..230...24B Table copied from TAP Vizier http://tapvizier.u-strasbg.fr/TAPVizieR/tap, table: II/335/galex_ais. Abstract: The Galaxy Evolution Explorer (GALEX) imaged the sky in two ultraviolet (UV) bands, far-UV (FUV, lambda_eff∼1528A), and near-UV (NUV, lambda_eff∼2310A), delivering the first comprehensive sky surveys at these wavelengths. The GALEX database contains FUV and NUV images, ∼500 million source measurements and over 100000 low-resolution UV spectra. The UV surveys are a unique resource for statistical studies of hot stellar objects, z≲2 QSOs, star-forming galaxies, nebulae and the interstellar medium, and provide a roadmap for planning future UV instrumentation and follow-up observing programs. We present science-enhanced, \"clean\" catalogs of GALEX UV sources, with useful tags to facilitate scientific investigations. The catalogs are an improved and expanded version of our previous catalogs of UV sources (BCScat; Bianchi+, 2011, J/MNRAS/411/2770 ; II/312 and 2014AdSpR..53..900B 2014AdSpR..53..900B). With respect to BCScat, we have patched 640 fields for which the pipeline had improperly coadded non-overlapping observations, and we provide a version with a larger sky coverage (about 10%) by relaxing the restriction to the central area of the GALEX field to 1.1 deg diameter (GUVcatAISfov055: GUVcat_AIS FOV_radius <0.55 deg), as well as the cleaner, more restrictive version using only the 1 deg central portion of each field as in BCScat (GUVcatAISfov050: GUVcat_AIS FOV_radius <0.50 deg). We added new tags to facilitate selection and cleaning of statistical samples for science applications: we flag sources within the footprint of extended objects (nearby galaxies, stellar clusters) so that these regions can be excluded for estimating source density. As in our previous catalogs, in GUVcat duplicate measurements of the same source are removed, so that each astrophysical object has only one entry. Such a unique-source catalog is needed to study the density and distributions of sources, and to match UV sources with catalogs at other wavelengths. The catalog includes all observations from the All-Sky Imaging Survey (AIS), the survey with the largest area coverage, with both FUV and NUV detectors exposed: over 28700 fields, made up of a total of 57000 observations (\"visits\"). The total area covered, when overlaps are removed and gaps are accounted for, is 24790 square degrees for GUVcatAISfov055 (GUVcatAISfov055) and 22125 square degrees for (GUVcatAISfov050). The total numbers of \"unique\" AIS sources (eliminating duplicate measurements) are 82,992,086 (GUVcatAISfov055) and 69,772,677 (GUVcatAISfov050). The typical depth of the GUVcat_AIS catalog is FUV=19.9, NUV=20.8 AB mag. \n",
            "\n",
            "3 external.external.ravedr5_com\n",
            " The Radial Velocity Experiment (RAVE): Fifth Data Release. RAVE completeness (RAVE_completeness_PBP.dat). Original catalogue released by Kunder et al. 2017 AJ 153, 75K. Data retrieved using the VizieR catalogue access tool, CDS, Strasbourg, France. The original description of the VizieR service was published in A&AS 143, 23. VizieR catalogue II/279. \n",
            "\n",
            "4 external.external.ravedr5_dr5\n",
            " The Radial Velocity Experiment (RAVE): Fifth Data Release. Main catalog. Original catalogue released by Kunder et al. 2017 AJ 153, 75K. Data retrieved using the VizieR catalogue access tool, CDS, Strasbourg, France. The original description of the VizieR service was published in A&AS 143, 23. VizieR catalogue II/279. \n",
            "\n",
            "5 external.external.ravedr5_gra\n",
            " The Radial Velocity Experiment (RAVE): Fifth Data Release. Astroseismic gravities (RAVE_Gravity_SC.dat). Original catalogue released by Kunder et al. 2017 AJ 153, 75K. Data retrieved using the VizieR catalogue access tool, CDS, Strasbourg, France. The original description of the VizieR service was published in A&AS 143, 23. VizieR catalogue II/279. \n",
            "\n",
            "6 external.external.ravedr5_on\n",
            " The Radial Velocity Experiment (RAVE): Fifth Data Release. Stellar parameters from Cannon. Original catalogue released by Kunder et al. 2017 AJ 153, 75K. Data retrieved using the VizieR catalogue access tool, CDS, Strasbourg, France. The original description of the VizieR service was published in A&AS 143, 23. VizieR catalogue II/279. \n",
            "\n",
            "7 external.external.sdssdr13_photoprimary\n",
            " DR13 photometric catalog quantities for SDSS imaging. Only primary sources are included. It is a copy of CasJobs PhotoPrimary view of table PhotoObjAll. Reference: Albareti 2017 ApJS 233, 25A. CasJobs available through SciServer http://www.sciserver.org/. This table contains the associated photometric parameters measured by PHOTO, and astrometrically and photometrically calibrated for all photo objects that are primary (the best version of the object). Star: Primary objects that are classified as stars. Galaxy: Primary objects that are classified as galaxies. Sky:Primary objects which are sky samples. Unknown: Primary objects which are none of the above. Each physical object on the sky has only one primary object associated with it. Upon subsequent observations secondary objects are generated. Since the survey stripes overlap, there will be secondary objects for over 10% of all primary objects, and in the southern stripes there will be a multitude of secondary objects for each primary (i.e. reobservations). \n",
            "\n",
            "8 external.external.skymapperdr1_master\n",
            " SkyMapper Data Release 1 - LATEST UPDATE (DR1.1) - MAIN TABLE: Primary table of mean astrometric, photometric and shape measurements per object, with cross-match information to external tables. Reference: Wolf et al. 2018 PASA, 35, 10. Data replicated from NCI TAP http://skymappertap.asvo.nci.org.au/ncitap/tap dr1.master table as of January 2019. \n",
            "\n",
            "9 external.external.tmass_xsc\n",
            " The Two Micron All Sky Survey: Extended Source Catalog. Reference: Skrutskie et al. 2006 AJ 131, 1163. Data replicated from IRSA TAP https://irsa.ipac.caltech.edu/TAP fp_xsc table as of January 2019. Note additional columns have been added after the original publication. The full data model is documented at http://wise2.ipac.caltech.edu/staff/jarrett/2mass/XSC/XSC_DD-new \n",
            "\n",
            "10 public.public.hipparcos\n",
            " hipparcos original catalogue (J1991.25) \n",
            "\n",
            "11 public.public.hipparcos_newreduction\n",
            " Hipparcos New Reduction: The Astrometric Catalogue  Hipparcos, the new Reduction of the Raw data      van Leeuwen F. Astron. Astrophys. 474, 653 (2007) http://dx.doi.org/10.1051/0004-6361:20078357  A new reduction of the astrometric data as produced by the Hipparcos     mission has been published, claiming accuracies for nearly all stars     brighter than magnitude Hp=8 to be better, by up to a factor 4, than     in the original catalogue.      The new Hipparcos astrometric catalogue is checked for the quality of     the data and the consistency of the formal errors as well as the     possible presence of error correlations. The differences with the     earlier publication are explained.      Methods. The internal errors are followed through the reduction     process, and the external errors are investigated on the basis of a     comparison with radio observations of a small selection of stars, and     the distribution of negative parallaxes. Error correlation levels are     investigated and the reduction by more than a factor 10 as obtained in     the new catalogue is explained.      Results. The formal errors on the parallaxes for the new catalogue are     confirmed. The presence of a small amount of additional noise, though     unlikely, cannot be ruled out.      Conclusions. The new reduction of the Hipparcos astrometric data     provides an improvement by a factor 2.2 in the total weight compared     to the catalogue published in 1997, and provides much improved data     for a wide range of studies on stellar luminosities and local galactic     kinematics. \n",
            "\n",
            "12 public.public.hubble_sc\n",
            " Hubble Source Catalogue \n",
            "\n",
            "13 public.public.igsl_source\n",
            " null \n",
            "\n",
            "14 public.public.igsl_source_catalog_ids\n",
            " SourceId in original  catalogues \n",
            "\n",
            "15 public.public.tycho2\n",
            " The Tycho-2 Catalogue is an astrometric reference catalogue containing     positions  and proper motions  as well as  two-colour photometric data     for the 2.5 million brightest stars in the sky.  The Tycho-2 positions     and magnitudes are  based on  precisely the  same observations  as the     original  Tycho  Catalogue  (hereafter  Tycho-1;  see  Cat.  I/239))     collected  by the  star mapper  of the  ESA Hipparcos  satellite,  but     Tycho-2 is much bigger  and slightly  more precise,   owing to  a more     advanced   reduction  technique.   Components  of  double  stars  with     separations down to 0.8 arcsec are included. Proper motions precise to     about 2.5 mas/yr are given as  derived  from  a  comparison  with  the     Astrographic   Catalogue  and   143  other   ground-based  astrometric     catalogues,  all reduced to the Hipparcos celestial coordinate system.     Tycho-2  supersedes in most applications Tycho-1,   as well as the ACT     (Cat.  I/246)  and TRC  (Cat. I/250)  catalogues based on Tycho-1.     Supplement-1  lists stars  from the  Hipparcos and  Tycho-1 Catalogues     which are not in Tycho-2.  Supplement-2 lists 1146 Tycho-1 stars which     are probably either false or heavily disturbed.      For more information, please consult the Tycho-2 home page:     http://www.astro.ku.dk/~erik/Tycho-2 \n",
            "\n",
            "16 public.public.dual\n",
            " auxiliary table to be used as dummy from \n",
            "\n",
            "17 tap_config.tap_config.coord_sys\n",
            "  \n",
            "\n",
            "18 tap_config.tap_config.properties\n",
            "  \n",
            "\n",
            "19 tap_schema.tap_schema.columns\n",
            " TAP SCHEMA columns \n",
            "\n",
            "20 tap_schema.tap_schema.key_columns\n",
            " TAP SCHEMA key columns \n",
            "\n",
            "21 tap_schema.tap_schema.keys\n",
            " TAP SCHEMA keys \n",
            "\n",
            "22 tap_schema.tap_schema.schemas\n",
            " TAP SCHEMA schemas \n",
            "\n",
            "23 tap_schema.tap_schema.tables\n",
            " TAP SCHEMA tables \n",
            "\n",
            "24 gaiadr1.gaiadr1.aux_qso_icrf2_match\n",
            " This table has an entry for all sources in the auxiliary QSO solution matched to the ICRF2 sources and passing all quality filters discussed in the corresponding documentation. \n",
            "\n",
            "25 gaiadr1.gaiadr1.ext_phot_zero_point\n",
            " Definition of the Gaia photometric system: for GDR1 only zero-points will be computed, one for G and one for each integrated BP and integrated RP. The adopted photometric system will be Vega. \n",
            "\n",
            "26 gaiadr1.gaiadr1.allwise_best_neighbour\n",
            " AllWISE implementation of BaseBestNeighbour \n",
            "\n",
            "27 gaiadr1.gaiadr1.allwise_neighbourhood\n",
            " AllWISE implementation of BaseNeighbourhood \n",
            "\n",
            "28 gaiadr1.gaiadr1.gsc23_best_neighbour\n",
            " GSC2.3 implementation of BaseBestNeighbour \n",
            "\n",
            "29 gaiadr1.gaiadr1.gsc23_neighbourhood\n",
            " GSC2.3 implementation of BaseNeighbourhood \n",
            "\n",
            "30 gaiadr1.gaiadr1.ppmxl_best_neighbour\n",
            " PPMXL implementation of BaseBestNeighbour \n",
            "\n",
            "31 gaiadr1.gaiadr1.ppmxl_neighbourhood\n",
            " PPMXL implementation of BaseNeighbourhood \n",
            "\n",
            "32 gaiadr1.gaiadr1.sdss_dr9_best_neighbour\n",
            " URAT-1 implementation of BaseBestNeighbour \n",
            "\n",
            "33 gaiadr1.gaiadr1.sdss_dr9_neighbourhood\n",
            " URAT-1 implementation of BaseNeighbourhood \n",
            "\n",
            "34 gaiadr1.gaiadr1.tmass_best_neighbour\n",
            " 2MASS implementation of BaseBestNeighbour \n",
            "\n",
            "35 gaiadr1.gaiadr1.tmass_neighbourhood\n",
            " 2MASS implementation of BaseNeighbourhod \n",
            "\n",
            "36 gaiadr1.gaiadr1.ucac4_best_neighbour\n",
            " UCAC4 implementation of BaseBestNeighbour \n",
            "\n",
            "37 gaiadr1.gaiadr1.ucac4_neighbourhood\n",
            " UCAC4 implementation of BaseNeighbourhood \n",
            "\n",
            "38 gaiadr1.gaiadr1.urat1_best_neighbour\n",
            " URAT-1 implementation of BaseBestNeighbour \n",
            "\n",
            "39 gaiadr1.gaiadr1.urat1_neighbourhood\n",
            " URAT-1 implementation of BaseNeighbourhood \n",
            "\n",
            "40 gaiadr1.gaiadr1.cepheid\n",
            " This table describes the Cepheid stars identified in table VariableSummary as classification=“CEP”. In the analyses only observations with rejectedByVariabilityProcessing=false are included, as found in table PhotVariableTimeSeriesGfov. \n",
            "\n",
            "41 gaiadr1.gaiadr1.phot_variable_time_series_gfov\n",
            " Field-of-view time series of sources that have photVariableFlag = “VARIABLE” in the GaiaSource table. \n",
            "\n",
            "42 gaiadr1.gaiadr1.phot_variable_time_series_gfov_statistical_parameters\n",
            " Statistical parameters of field-of-view time series, only including observations with rejectedByVariabilityProcessing=false as found in table PhotVariableTimeSeriesGfov. Note that only sources are included that have photVariableFlag = “VARIABLE” in the GaiaSource table. \n",
            "\n",
            "43 gaiadr1.gaiadr1.rrlyrae\n",
            " This table describes the RRLyrae stars identified in table VariableSummary as classification=“RRLYR”. In the analyses only observations with rejectedByVariabilityProcessing=false are included, as found in table PhotVariableTimeSeriesGfov. \n",
            "\n",
            "44 gaiadr1.gaiadr1.variable_summary\n",
            " Table with variability summary of sources with photVariableFlag = “VARIABLE” in the GaiaSource table. \n",
            "\n",
            "45 gaiadr1.gaiadr1.allwise_original_valid\n",
            " AllWISE source catalogue   Reference paper:   Wright et al. 2010, AJ, 140, 1868   Mainzer et al. 2011, ApJ, 731, 53   Original catalogue:   http://irsadist.ipac.caltech.edu/wise-allwise/   http://wise2.ipac.caltech.edu/docs/release/allwise/expsup/index.html Catalogue curator: SSDC - ASI Space Science Data Center https://www.ssdc.asi.it/ \n",
            "\n",
            "46 gaiadr1.gaiadr1.gsc23_original_valid\n",
            " GSC 2.3 Catalogue   Reference paper: Lasker et al. 2008, AJ 136,735   Original catalogue: R. Smart private communication Catalogue curator: SSDC - ASI Space Science Data Center https://www.ssdc.asi.it/ \n",
            "\n",
            "47 gaiadr1.gaiadr1.ppmxl_original_valid\n",
            " PPMXL Catalogue   Reference papers:   PPMXL: Roeser et al. 2010, AJ 139, 2440   PPMX: Roeser et al. 2008,A&A 488, 401   Original Catalogue:   VO access: http://vo.uni-hd.de/ppmxl Catalogue curator: SSDC - ASI Space Science Data Center https://www.ssdc.asi.it/ \n",
            "\n",
            "48 gaiadr1.gaiadr1.sdssdr9_original_valid\n",
            " SDSS DR9 Catalogue, primary object only, extracted from photoObj fits files.   Reference paper: Ahn et al. 2012, ApJS 203,21   Original catalogue: http://data.sdss3.org/sas/dr9/boss/photoObj/ Catalogue curator: SSDC - ASI Space Science Data Center https://www.ssdc.asi.it/ \n",
            "\n",
            "49 gaiadr1.gaiadr1.tmass_original_valid\n",
            " 2MASS PSC Catalogue  Reference paper: Skrutskie et al. 2006, AJ 131, 1163  Documentation: http://www.ipac.caltech.edu/2mass/releases/allsky/doc/explsup.html  Original catalogue: ftp://ftp.ipac.caltech.edu/pub/2mass/allsky  Catalogue curator: SSDC - ASI Space Science Data Center https://www.ssdc.asi.it/ \n",
            "\n",
            "50 gaiadr1.gaiadr1.ucac4_original_valid\n",
            " UCAC4 Catalogue  Reference paper:   Zacharias N., et al. 2013, AJ 145, 44  Original catalogue:   DVD sent by author. Catalogue curator: SSDC - ASI Space Science Data Center https://www.ssdc.asi.it/ \n",
            "\n",
            "51 gaiadr1.gaiadr1.urat1_original_valid\n",
            " URAT-1 Catalogue   Reference paper:    A URAT-1 release paper for the Astronomical Journal is in preparation.   The first U.S. Naval Observatory Astrometric Robotic Telescope Catalog (URAT1) Zacharias N., Finch C., Subasavage J., Bredthauer G., Crockett C., Divittorio M., Furguson E., Harris F., Harris H., Henden A., Kilian C., Munn J., Rafferty T., Rhodes A., Schultheiss M., Tilleman T., Wieder G. =2015yCat.1329....0Z   Original catalogue:   CDS Catalogue curator: SSDC - ASI Space Science Data Center https://www.ssdc.asi.it/ \n",
            "\n",
            "52 gaiadr1.gaiadr1.gaia_source\n",
            " This table has an entry for every Gaia observed source as listed in the Main Database accumulating catalogue version from which the catalogue release has been generated. It contains the basic source parameters, that is only final data (no epoch data) and no spectra (neither final nor epoch). \n",
            "\n",
            "53 gaiadr1.gaiadr1.tgas_source\n",
            " This table is a subset of GaiaSource comprising those stars in the Hipparcos and Tycho-2 Catalogues for which a full 5-parameter astrometric solution has been possible in Gaia Data Release 1. This is possible because the early Hipparcos epoch positions break some degeneracies due to the limited Gaia time coverage.  This table contains a substantial fraction of the around 2.5 million stars in the Hipparcos and Tycho-2 catalogue. Many stars have been excluded due to several reasons, such as saturation, cross-match errors or bad astrometric solution. \n",
            "\n",
            "54 gaiadr2.gaiadr2.aux_allwise_agn_gdr2_cross_id\n",
            "  \n",
            "\n",
            "55 gaiadr2.gaiadr2.aux_iers_gdr2_cross_id\n",
            "  \n",
            "\n",
            "56 gaiadr2.gaiadr2.aux_sso_orbit_residuals\n",
            " Residuals with respect to an orbital fit considering only the Gaia observations. Each entry has a corresponding record in the table sso_observation. A flag is given, indicating if the observation has been rejected by the fit procedure. \n",
            "\n",
            "57 gaiadr2.gaiadr2.aux_sso_orbits\n",
            " Auxiliary information on asteroid orbits and basic photometric parameters. Ready to ingest the astorb data base: ftp://cdsarc.u-strasbg.fr/pub/cats/B/astorb/astorb.html \n",
            "\n",
            "58 gaiadr2.gaiadr2.dr1_neighbourhood\n",
            " Users wishing to look up the DR2 record for an astrophysical source identified in DR1 must NOT simply extract the record from DR2 having the same source identifier.  As described in the detailed description of attribute designation in GaiaSource it is not guaranteed that the same astronomical source will always have the same source identifier in different Data Releases. Hence the only safe way to compare source records between different Data Releases in general is to check the records of proximal source(s) in the same small part of the sky. This table provides the means to do this via a precomputed crossmatch of such sources, taking into account the proper motions available at DR2.  Within the neighbourhood of a given DR2 source there may be none, one or (rarely) several possible counterparts in DR1 indicated by rows in this table. This occasional source confusion was introduced during the DR1 processing which used an earlier version of the software for matching of transit observations to unique astrophysical sources. The subsequent merging, splitting and deletion of identifiers introduced at DR1 during the DR2 processing means there is no guaranteed one–to–one correspondence in source identifiers between the releases.  For more details of the procedure used to create this crossmatch, see Section [chap:xmdr1] in the online documentation. \n",
            "\n",
            "59 gaiadr2.gaiadr2.allwise_best_neighbour\n",
            " AllWISE BestNeighbour table lists each matched Gaia object with its best neighbour in the external catalogue. \n",
            "\n",
            "60 gaiadr2.gaiadr2.allwise_neighbourhood\n",
            " AllWISE Neighbourhood table includes all good neighbours for each matched Gaia object. A good neighbour for a given Gaia object is a nearby object in the external catalogue whose position is compatible (within position errors) with the target. \n",
            "\n",
            "61 gaiadr2.gaiadr2.apassdr9_best_neighbour\n",
            " APASS DR9 BestNeighbour table lists each matched Gaia object with its best neighbour in the external catalogue. \n",
            "\n",
            "62 gaiadr2.gaiadr2.apassdr9_neighbourhood\n",
            " APASS DR9 Neighbourhood table includes all good neighbours for each matched Gaia object. A good neighbour for a given Gaia object is a nearby object in the external catalogue whose position is compatible (within position errors) with the target. \n",
            "\n",
            "63 gaiadr2.gaiadr2.gsc23_best_neighbour\n",
            " GSC2.3 BestNeighbour table lists each matched Gaia object with its best neighbour in the external catalogue. \n",
            "\n",
            "64 gaiadr2.gaiadr2.gsc23_neighbourhood\n",
            " GSC2.3 Neighbourhood table includes all good neighbours for each matched Gaia object. A good neighbour for a given Gaia object is a nearby object in the external catalogue whose position is compatible (within position errors) with the target. \n",
            "\n",
            "65 gaiadr2.gaiadr2.hipparcos2_best_neighbour\n",
            " Hipparcos-2 BestNeighbour table lists each matched external catalogue object with its best neighbour in Gaia. \n",
            "\n",
            "66 gaiadr2.gaiadr2.hipparcos2_neighbourhood\n",
            " Hipparcos-2 Neighbourhood table includes all good neighbours for each matched external catalogue object. A good neighbour for a given external catalogue object is a nearby object in Gaia whose position is compatible (within position errors) with the target. \n",
            "\n",
            "67 gaiadr2.gaiadr2.panstarrs1_best_neighbour\n",
            " Pan-STARRS1 BestNeighbour table lists each matched Gaia object with its best neighbour in the external catalogue. There are 1 327 157 objects in the filtered version of Pan-STARRS1 used to compute this cross-match that have too early epochMean. \n",
            "\n",
            "68 gaiadr2.gaiadr2.panstarrs1_neighbourhood\n",
            " Pan-STARRS1 Neighbourhood table includes all good neighbours for each matched Gaia object. A good neighbour for a given Gaia object is a nearby object in the external catalogue whose position is compatible (within position errors) with the target. \n",
            "\n",
            "69 gaiadr2.gaiadr2.ppmxl_best_neighbour\n",
            " PPMXL BestNeighbour table lists each matched Gaia object with its best neighbour in the external catalogue. \n",
            "\n",
            "70 gaiadr2.gaiadr2.ppmxl_neighbourhood\n",
            " PPMXL Neighbourhood table includes all good neighbours for each matched Gaia object. A good neighbour for a given Gaia object is a nearby object in the external catalogue whose position is compatible (within position errors) with the target. \n",
            "\n",
            "71 gaiadr2.gaiadr2.ravedr5_best_neighbour\n",
            " RAVE DR5 table lists each matched external catalogue object with its best neighbour in Gaia. \n",
            "\n",
            "72 gaiadr2.gaiadr2.ravedr5_neighbourhood\n",
            " RAVE DR5 Neighbourhood table includes all good neighbours for each matched external catalogue object. A good neighbour for a given external catalogue object is a nearby object in Gaia whose position is compatible (within position errors) with the target. \n",
            "\n",
            "73 gaiadr2.gaiadr2.sdssdr9_best_neighbour\n",
            " SDSS DR9 BestNeighbour table lists each matched Gaia object with its best neighbour in the external catalogue. \n",
            "\n",
            "74 gaiadr2.gaiadr2.sdssdr9_neighbourhood\n",
            " SDSS DR9 Neighbourhood table includes all good neighbours for each matched Gaia object. A good neighbour for a given Gaia object is a nearby object in the external catalogue whose position is compatible (within position errors) with the target. \n",
            "\n",
            "75 gaiadr2.gaiadr2.tmass_best_neighbour\n",
            " 2MASS BestNeighbour table lists each matched Gaia object with its best neighbour in the external catalogue. \n",
            "\n",
            "76 gaiadr2.gaiadr2.tmass_neighbourhood\n",
            " 2MASS Neighbourhood table includes all good neighbours for each matched Gaia object. A good neighbour for a given Gaia object is a nearby object in the external catalogue whose position is compatible (within position errors) with the target. \n",
            "\n",
            "77 gaiadr2.gaiadr2.tycho2_best_neighbour\n",
            " Tycho-2 table lists each matched external catalogue object with its best neighbour in Gaia. \n",
            "\n",
            "78 gaiadr2.gaiadr2.tycho2_neighbourhood\n",
            " Tycho-2 Neighbourhood table includes all good neighbours for each matched external catalogue object. A good neighbour for a given external catalogue object is a nearby object in Gaia whose position is compatible (within position errors) with the target. \n",
            "\n",
            "79 gaiadr2.gaiadr2.urat1_best_neighbour\n",
            " URAT-1 BestNeighbour table lists each matched Gaia object with its best neighbour in the external catalogue. \n",
            "\n",
            "80 gaiadr2.gaiadr2.urat1_neighbourhood\n",
            " URAT-1 Neighbourhood table includes all good neighbours for each matched Gaia object. A good neighbour for a given Gaia object is a nearby object in the external catalogue whose position is compatible (within position errors) with the target. \n",
            "\n",
            "81 gaiadr2.gaiadr2.sso_observation\n",
            " Solar System object observations. Each table line contained data obtained during the transit of the source on a single CCD, during a single transit. The corresponding epoch is provided. Data not varying within the transit are repeated identically for all single observations of that transit. \n",
            "\n",
            "82 gaiadr2.gaiadr2.sso_source\n",
            " This table contains data related to Solar System objects observed by Gaia. The quantities in the table are derived from data reduction and are associated to single objects. \n",
            "\n",
            "83 gaiadr2.gaiadr2.vari_cepheid\n",
            " This table describes the Cepheid stars. \n",
            "\n",
            "84 gaiadr2.gaiadr2.vari_classifier_class_definition\n",
            " Table with detailed descriptions of published classes for each classifier described in VariClassifierDefinition and used in table VariClassifierResult.  In DR2 this table contains the details of a classifier with classifierName=‘nTransits:2+’. \n",
            "\n",
            "85 gaiadr2.gaiadr2.vari_classifier_definition\n",
            " Table with detailed descriptions of all classifiers used in table VariClassifierResult. Details of the published classes for each classifier can be found in VariClassifierClassDefinition.  In DR2 this table contains the details of a classifier with classifierName=‘nTransits:2+’. \n",
            "\n",
            "86 gaiadr2.gaiadr2.vari_classifier_result\n",
            " Table with variability classification results of all classifiers, identified by the classifierName column. In DR2 it contains a classifier with classifierName=‘nTransits:2+’, description of which can be found in VariClassifierDefinition and classes in VariClassifierClassDefinition. \n",
            "\n",
            "87 gaiadr2.gaiadr2.vari_long_period_variable\n",
            " This table describes the Long Period Variable stars.  Some entries can be NaN when absent. \n",
            "\n",
            "88 gaiadr2.gaiadr2.vari_rotation_modulation\n",
            " This table describes the solar-like stars with rotational modulation. \n",
            "\n",
            "89 gaiadr2.gaiadr2.vari_rrlyrae\n",
            " This table describes the RR Lyrae stars. \n",
            "\n",
            "90 gaiadr2.gaiadr2.vari_short_timescale\n",
            " This table describes the short-timescale sources. For DR2, all sources in this table were selected according to their variogram analysis. \n",
            "\n",
            "91 gaiadr2.gaiadr2.vari_time_series_statistics\n",
            " Statistical parameters of time series, using only transits not rejected, see rejectedByVariability column in the VO Table epochPhotometryUrl in gaiaSource.  Note that NaN will be reported when the parameter value is missing or cannot be calculated. \n",
            "\n",
            "92 gaiadr2.gaiadr2.panstarrs1_original_valid\n",
            " The Panoramic Survey Telescope and Rapid Response System (Pan-STARRS) is a system for wide-field astronomical imaging developed and operated by the Institute for Astronomy at the University of Hawaii. Pan-STARRS1 (PS1) is the first part of Pan-STARRS to be completed and is the basis for Data Release 1 (DR1). The PS1 survey used a 1.8 meter telescope and its 1.4 Gigapixel camera to image the sky in five broadband filters (g, r, i, z, y).  The current table contains a filtered subsample of the 10 723 304 629 entries listed in the original ObjectThin table. We used only ObjectThin and MeanObject tables to extract panstarrs1OriginalValid table, this means that objects detected only in stack images are not included here. The main reason for us to avoid the use of objects detected in stack images is that their astrometry is not as good as the mean objects astrometry: “The stack positions (raStack, decStack) have considerably larger systematic astrometric errors than the mean epoch positions (raMean, decMean).” The astrometry for the MeanObject positions uses Gaia DR1 as a reference catalog, while the stack positions use 2MASS as a reference catalog.  In details, we filtered out all objects where:  -   nDetections = 1  -   no good quality data in Pan-STARRS, objInfoFlag 33554432 not set  -   mean astrometry could not be measured, objInfoFlag 524288 set  -   stack position used for mean astrometry, objInfoFlag 1048576 set  -   error on all magnitudes equal to 0 or to -999;  -   all magnitudes set to -999;  -   error on RA or DEC greater than 1 arcsec.  The number of objects in panstarrs1OriginalValid is 2 264 263 282.  The panstarrs1OriginalValid table contains only a subset of the columns available in the combined ObjectThin and MeanObject tables. A description of the original ObjectThin and MeanObjects tables can be found at: https://outerspace.stsci.edu/display/PANSTARRS/PS1+Database+object+and+detection+tables  Download: http://mastweb.stsci.edu/ps1casjobs/home.aspx Documentation: https://outerspace.stsci.edu/display/PANSTARRS http://pswww.ifa.hawaii.edu/pswww/ References: The Pan-STARRS1 Surveys, Chambers, K.C., et al. 2016, arXiv:1612.05560 Pan-STARRS Data Processing System, Magnier, E. A., et al. 2016, arXiv:1612.05240 Pan-STARRS Pixel Processing: Detrending, Warping, Stacking, Waters, C. Z., et al. 2016, arXiv:1612.05245 Pan-STARRS Pixel Analysis: Source Detection and Characterization, Magnier, E. A., et al. 2016, arXiv:1612.05244 Pan-STARRS Photometric and Astrometric Calibration, Magnier, E. A., et al. 2016, arXiv:1612.05242 The Pan-STARRS1 Database and Data Products, Flewelling, H. A., et al. 2016, arXiv:1612.05243  Catalogue curator: SSDC - ASI Space Science Data Center https://www.ssdc.asi.it/ \n",
            "\n",
            "93 gaiadr2.gaiadr2.gaia_source\n",
            " This table has an entry for every Gaia observed source as listed in the Main Database accumulating catalogue version from which the catalogue release has been generated. It contains the basic source parameters, that is only final data (no epoch data) and no spectra (neither final nor epoch). \n",
            "\n",
            "94 gaiadr2.gaiadr2.ruwe\n",
            " This table contains the Renormalised Unit Weight Error (RUWE) associated to each source in gaia_source.  The RUWE is expected to be around 1.0 for sources where the single-star model provides a good fit to the astrometric observations. A value significantly greater than 1.0 (say, >1.4) could indicate that the source is non-single or otherwise problematic for the astrometric solution.  The desciption of how this parameter is calculated is described in the document ”Re-normalising the astrometric chi-square in Gaia DR2”, which can be downloaded from: https://www.cosmos.esa.int/web/gaia/public-dpac-documents \n",
            "\n"
          ],
          "name": "stdout"
        }
      ]
    },
    {
      "cell_type": "code",
      "metadata": {
        "id": "d7tsnesv_GeE",
        "colab_type": "code",
        "colab": {
          "base_uri": "https://localhost:8080/",
          "height": 34
        },
        "outputId": "f27f19f4-b9c3-4dd1-a039-563ec8a30fb9"
      },
      "source": [
        "# Build a sample query. Specifying \"TOP 20\" limits the results to 20 rows.\n",
        "myquery = 'SELECT TOP 20 * FROM gaiadr2.gaia_source'\n",
        "\n",
        "# Run the query and store the results\n",
        "timer_start()\n",
        "job = Gaia.launch_job(myquery, dump_to_file=False)\n",
        "timer_stop()"
      ],
      "execution_count": 11,
      "outputs": [
        {
          "output_type": "stream",
          "text": [
            "0.27 seconds elapsed\n"
          ],
          "name": "stdout"
        }
      ]
    },
    {
      "cell_type": "markdown",
      "metadata": {
        "id": "ob9GcFn-_GeG",
        "colab_type": "text"
      },
      "source": [
        "Note that `myquery` uses ADQL (Astronomical Data Query Language), similar to Structured Query Language (SQL). For examples and a description of ADQL, see https://gaia.ac.uk/data/gaia-data-release-1/adql-cookbook.\n",
        "\n",
        "`job` now contains names and descriptions for each column in the database. (Note this is true as long as the `dump_to_file` parameter is `False` in the above call to `launch_job`).\n",
        "\n",
        "Let's `print(job)` to see info on available columns."
      ]
    },
    {
      "cell_type": "code",
      "metadata": {
        "scrolled": false,
        "id": "uAvbGgSC_GeG",
        "colab_type": "code",
        "colab": {
          "base_uri": "https://localhost:8080/",
          "height": 1000
        },
        "outputId": "e5e15109-ccc7-4807-bf73-cda61774dcfa"
      },
      "source": [
        "print(job)"
      ],
      "execution_count": 21,
      "outputs": [
        {
          "output_type": "stream",
          "text": [
            "<Table length=20>\n",
            "              name                dtype       unit                                          description                                      n_bad\n",
            "-------------------------------- ------- ------------- ------------------------------------------------------------------------------------- -----\n",
            "                     solution_id   int64                                                                                 Solution Identifier     0\n",
            "                     designation  object                                         Unique source designation (unique across all Data Releases)     0\n",
            "                       source_id   int64                                  Unique source identifier (unique within a particular Data Release)     0\n",
            "                    random_index   int64                                                                 Random index used to select subsets     0\n",
            "                       ref_epoch float64            yr                                                                       Reference epoch     0\n",
            "                              ra float64           deg                                                                       Right ascension     0\n",
            "                        ra_error float64           mas                                                     Standard error of right ascension     0\n",
            "                             dec float64           deg                                                                           Declination     0\n",
            "                       dec_error float64           mas                                                         Standard error of declination     0\n",
            "                        parallax float64           mas                                                                              Parallax     7\n",
            "                  parallax_error float64           mas                                                            Standard error of parallax     7\n",
            "             parallax_over_error float32                                                                       Parallax divided by its error     7\n",
            "                            pmra float64      mas / yr                                            Proper motion in right ascension direction     7\n",
            "                      pmra_error float64      mas / yr                          Standard error of proper motion in right ascension direction     7\n",
            "                           pmdec float64      mas / yr                                                Proper motion in declination direction     7\n",
            "                     pmdec_error float64      mas / yr                              Standard error of proper motion in declination direction     7\n",
            "                     ra_dec_corr float32                                                 Correlation between right ascension and declination     0\n",
            "                ra_parallax_corr float32                                                    Correlation between right ascension and parallax     7\n",
            "                    ra_pmra_corr float32                            Correlation between right ascension and proper motion in right ascension     7\n",
            "                   ra_pmdec_corr float32                                Correlation between right ascension and proper motion in declination     7\n",
            "               dec_parallax_corr float32                                                        Correlation between declination and parallax     7\n",
            "                   dec_pmra_corr float32                                Correlation between declination and proper motion in right ascension     7\n",
            "                  dec_pmdec_corr float32                                    Correlation between declination and proper motion in declination     7\n",
            "              parallax_pmra_corr float32                                   Correlation between parallax and proper motion in right ascension     7\n",
            "             parallax_pmdec_corr float32                                       Correlation between parallax and proper motion in declination     7\n",
            "                 pmra_pmdec_corr float32               Correlation between proper motion in right ascension and proper motion in declination     7\n",
            "            astrometric_n_obs_al   int32                                                                     Total number of observations AL     0\n",
            "            astrometric_n_obs_ac   int32                                                                     Total number of observations AC     0\n",
            "       astrometric_n_good_obs_al   int32                                                                      Number of good observations AL     0\n",
            "        astrometric_n_bad_obs_al   int32                                                                       Number of bad observations AL     0\n",
            "              astrometric_gof_al float32                                      Goodness of fit statistic of model wrt along-scan observations     0\n",
            "             astrometric_chi2_al float32                                                                                 AL chi-square value     0\n",
            "        astrometric_excess_noise float64           mas                                                            Excess noise of the source     0\n",
            "    astrometric_excess_noise_sig float64                                                                        Significance of excess noise     0\n",
            "       astrometric_params_solved   int16                                                              Which parameters have been solved for?     0\n",
            "        astrometric_primary_flag    bool                                                                                 Primary or seconday     0\n",
            "           astrometric_weight_al float32      1 / mas2                                                 Mean astrometric weight of the source     0\n",
            "       astrometric_pseudo_colour float64        1 / um                                 Astrometrically determined pseudocolour of the source     7\n",
            " astrometric_pseudo_colour_error float64        1 / um                                      Standard error of the pseudocolour of the source     7\n",
            "            mean_varpi_factor_al float32                                                                             Mean Parallax factor AL     0\n",
            "astrometric_matched_observations   int16                                                      Matched FOV transits used in the AGIS solution     0\n",
            "         visibility_periods_used   int16                                           Number of visibility periods used in Astrometric solution     0\n",
            "         astrometric_sigma5d_max float32           mas                                The longest semi-major axis of the 5-d error ellipsoid     0\n",
            "       frame_rotator_object_type   int32                                               The type of the source mainly used for frame rotation     0\n",
            "            matched_observations   int16                                                       Amount of observations matched to this source     0\n",
            "               duplicated_source    bool                                                                       Source with duplicate sources     0\n",
            "                    phot_g_n_obs   int32                                                 Number of observations contributing to G photometry     0\n",
            "                phot_g_mean_flux float64  electron / s                                                                      G-band mean flux     0\n",
            "          phot_g_mean_flux_error float64  electron / s                                                             Error on G-band mean flux     0\n",
            "     phot_g_mean_flux_over_error float32                                                               G-band mean flux divided by its error     0\n",
            "                 phot_g_mean_mag float32           mag                                                                 G-band mean magnitude     0\n",
            "                   phot_bp_n_obs   int32                                                Number of observations contributing to BP photometry     0\n",
            "               phot_bp_mean_flux float64  electron / s                                                               Integrated BP mean flux     1\n",
            "         phot_bp_mean_flux_error float64  electron / s                                                  Error on the integrated BP mean flux     1\n",
            "    phot_bp_mean_flux_over_error float32                                                        Integrated BP mean flux divided by its error     1\n",
            "                phot_bp_mean_mag float32           mag                                                          Integrated BP mean magnitude     1\n",
            "                   phot_rp_n_obs   int32                                                Number of observations contributing to RP photometry     0\n",
            "               phot_rp_mean_flux float64  electron / s                                                               Integrated RP mean flux     1\n",
            "         phot_rp_mean_flux_error float64  electron / s                                                  Error on the integrated RP mean flux     1\n",
            "    phot_rp_mean_flux_over_error float32                                                        Integrated RP mean flux divided by its error     1\n",
            "                phot_rp_mean_mag float32           mag                                                          Integrated RP mean magnitude     1\n",
            "        phot_bp_rp_excess_factor float32                                                                                 BP/RP excess factor     1\n",
            "                  phot_proc_mode   int16                                                                          Photometry processing mode     0\n",
            "                           bp_rp float32           mag                                                                        BP - RP colour     1\n",
            "                            bp_g float32           mag                                                                         BP - G colour     1\n",
            "                            g_rp float32           mag                                                                         G - RP colour     1\n",
            "                 radial_velocity float64        km / s                                                                       Radial velocity    20\n",
            "           radial_velocity_error float64        km / s                                                                 Radial velocity error    20\n",
            "                  rv_nb_transits   int32                                                  Number of transits used to compute radial velocity     0\n",
            "                rv_template_teff float32             K                                  Teff of the template used to compute radial velocity    20\n",
            "                rv_template_logg float32 log(cm.s**-2)                                  logg of the template used to compute radial velocity    20\n",
            "                rv_template_fe_h float32           dex                                  Fe/H of the template used to compute radial velocity    20\n",
            "              phot_variable_flag  object                                                                        Photometric variability flag     0\n",
            "                               l float64           deg                                                                    Galactic longitude     0\n",
            "                               b float64           deg                                                                     Galactic latitude     0\n",
            "                         ecl_lon float64           deg                                                                    Ecliptic longitude     0\n",
            "                         ecl_lat float64           deg                                                                     Ecliptic latitude     0\n",
            "                     priam_flags   int64                                                                   flags for the Apsis-Priam results    19\n",
            "                        teff_val float32             K                                                         stellar effective temperature    19\n",
            "           teff_percentile_lower float32             K                                                             teffVal lower uncertainty    19\n",
            "           teff_percentile_upper float32             K                                                             teffVal upper uncertainty    19\n",
            "                         a_g_val float32           mag                                          line-of-sight extinction in the G band, A_G)    19\n",
            "            a_g_percentile_lower float32           mag                                                               aGVal lower uncertainty    19\n",
            "            a_g_percentile_upper float32           mag                                                               aGVal upper uncertainty    19\n",
            "                 e_bp_min_rp_val float32           mag                                                      line-of-sight reddening E(BP-RP)    19\n",
            "    e_bp_min_rp_percentile_lower float32           mag                                                         eBPminRPVal lower uncertainty    19\n",
            "    e_bp_min_rp_percentile_upper float32           mag                                                         eBPminRPVal upper uncertainty    19\n",
            "                     flame_flags   int64                                                                   Flags for the Apsis-FLAME results    19\n",
            "                      radius_val float32          Rsun                                                                        stellar radius    19\n",
            "         radius_percentile_lower float32          Rsun                                                           radiusVal lower uncertainty    19\n",
            "         radius_percentile_upper float32          Rsun                                                           radiusVal upper uncertainty    19\n",
            "                         lum_val float32          Lsun                                                                    stellar luminosity    19\n",
            "            lum_percentile_lower float32          Lsun                                                              lumVal lower uncertainty    19\n",
            "            lum_percentile_upper float32          Lsun                                                              lumVal upper uncertainty    19\n",
            "                    datalink_url  object                                                                                        datalink url     0\n",
            "            epoch_photometry_url  object                                                                                epoch photometry url     0\n",
            "Jobid: None\n",
            "Phase: COMPLETED\n",
            "Owner: None\n",
            "Output file: sync_20200922203434.xml.gz\n",
            "Results: None\n"
          ],
          "name": "stdout"
        }
      ]
    },
    {
      "cell_type": "code",
      "metadata": {
        "id": "WyUneEq-_GeI",
        "colab_type": "code",
        "colab": {}
      },
      "source": [
        "# Convert our AstroPy data into a pandas dataframe\n",
        "sample_df = (job.get_results()).to_pandas()"
      ],
      "execution_count": 22,
      "outputs": []
    },
    {
      "cell_type": "code",
      "metadata": {
        "id": "z6Hcw9PT_GeK",
        "colab_type": "code",
        "colab": {
          "base_uri": "https://localhost:8080/",
          "height": 34
        },
        "outputId": "bc1bdd50-7a89-4ab0-8a2e-b49e4014c3c4"
      },
      "source": [
        "# Check that we got a pandas dataframe\n",
        "type(sample_df)"
      ],
      "execution_count": 23,
      "outputs": [
        {
          "output_type": "execute_result",
          "data": {
            "text/plain": [
              "pandas.core.frame.DataFrame"
            ]
          },
          "metadata": {
            "tags": []
          },
          "execution_count": 23
        }
      ]
    },
    {
      "cell_type": "code",
      "metadata": {
        "id": "3u0Ecx-6_GeM",
        "colab_type": "code",
        "colab": {
          "base_uri": "https://localhost:8080/",
          "height": 338
        },
        "outputId": "77706782-4e9e-454a-b82e-b457a09dbe18"
      },
      "source": [
        "# Take a look at the first 5 rows\n",
        "sample_df.head()"
      ],
      "execution_count": 24,
      "outputs": [
        {
          "output_type": "execute_result",
          "data": {
            "text/html": [
              "<div>\n",
              "<style scoped>\n",
              "    .dataframe tbody tr th:only-of-type {\n",
              "        vertical-align: middle;\n",
              "    }\n",
              "\n",
              "    .dataframe tbody tr th {\n",
              "        vertical-align: top;\n",
              "    }\n",
              "\n",
              "    .dataframe thead th {\n",
              "        text-align: right;\n",
              "    }\n",
              "</style>\n",
              "<table border=\"1\" class=\"dataframe\">\n",
              "  <thead>\n",
              "    <tr style=\"text-align: right;\">\n",
              "      <th></th>\n",
              "      <th>solution_id</th>\n",
              "      <th>designation</th>\n",
              "      <th>source_id</th>\n",
              "      <th>random_index</th>\n",
              "      <th>ref_epoch</th>\n",
              "      <th>ra</th>\n",
              "      <th>ra_error</th>\n",
              "      <th>dec</th>\n",
              "      <th>dec_error</th>\n",
              "      <th>parallax</th>\n",
              "      <th>parallax_error</th>\n",
              "      <th>parallax_over_error</th>\n",
              "      <th>pmra</th>\n",
              "      <th>pmra_error</th>\n",
              "      <th>pmdec</th>\n",
              "      <th>pmdec_error</th>\n",
              "      <th>ra_dec_corr</th>\n",
              "      <th>ra_parallax_corr</th>\n",
              "      <th>ra_pmra_corr</th>\n",
              "      <th>ra_pmdec_corr</th>\n",
              "      <th>dec_parallax_corr</th>\n",
              "      <th>dec_pmra_corr</th>\n",
              "      <th>dec_pmdec_corr</th>\n",
              "      <th>parallax_pmra_corr</th>\n",
              "      <th>parallax_pmdec_corr</th>\n",
              "      <th>pmra_pmdec_corr</th>\n",
              "      <th>astrometric_n_obs_al</th>\n",
              "      <th>astrometric_n_obs_ac</th>\n",
              "      <th>astrometric_n_good_obs_al</th>\n",
              "      <th>astrometric_n_bad_obs_al</th>\n",
              "      <th>astrometric_gof_al</th>\n",
              "      <th>astrometric_chi2_al</th>\n",
              "      <th>astrometric_excess_noise</th>\n",
              "      <th>astrometric_excess_noise_sig</th>\n",
              "      <th>astrometric_params_solved</th>\n",
              "      <th>astrometric_primary_flag</th>\n",
              "      <th>astrometric_weight_al</th>\n",
              "      <th>astrometric_pseudo_colour</th>\n",
              "      <th>astrometric_pseudo_colour_error</th>\n",
              "      <th>mean_varpi_factor_al</th>\n",
              "      <th>...</th>\n",
              "      <th>phot_rp_n_obs</th>\n",
              "      <th>phot_rp_mean_flux</th>\n",
              "      <th>phot_rp_mean_flux_error</th>\n",
              "      <th>phot_rp_mean_flux_over_error</th>\n",
              "      <th>phot_rp_mean_mag</th>\n",
              "      <th>phot_bp_rp_excess_factor</th>\n",
              "      <th>phot_proc_mode</th>\n",
              "      <th>bp_rp</th>\n",
              "      <th>bp_g</th>\n",
              "      <th>g_rp</th>\n",
              "      <th>radial_velocity</th>\n",
              "      <th>radial_velocity_error</th>\n",
              "      <th>rv_nb_transits</th>\n",
              "      <th>rv_template_teff</th>\n",
              "      <th>rv_template_logg</th>\n",
              "      <th>rv_template_fe_h</th>\n",
              "      <th>phot_variable_flag</th>\n",
              "      <th>l</th>\n",
              "      <th>b</th>\n",
              "      <th>ecl_lon</th>\n",
              "      <th>ecl_lat</th>\n",
              "      <th>priam_flags</th>\n",
              "      <th>teff_val</th>\n",
              "      <th>teff_percentile_lower</th>\n",
              "      <th>teff_percentile_upper</th>\n",
              "      <th>a_g_val</th>\n",
              "      <th>a_g_percentile_lower</th>\n",
              "      <th>a_g_percentile_upper</th>\n",
              "      <th>e_bp_min_rp_val</th>\n",
              "      <th>e_bp_min_rp_percentile_lower</th>\n",
              "      <th>e_bp_min_rp_percentile_upper</th>\n",
              "      <th>flame_flags</th>\n",
              "      <th>radius_val</th>\n",
              "      <th>radius_percentile_lower</th>\n",
              "      <th>radius_percentile_upper</th>\n",
              "      <th>lum_val</th>\n",
              "      <th>lum_percentile_lower</th>\n",
              "      <th>lum_percentile_upper</th>\n",
              "      <th>datalink_url</th>\n",
              "      <th>epoch_photometry_url</th>\n",
              "    </tr>\n",
              "  </thead>\n",
              "  <tbody>\n",
              "    <tr>\n",
              "      <th>0</th>\n",
              "      <td>1635721458409799680</td>\n",
              "      <td>b'Gaia DR2 6762361067651541120'</td>\n",
              "      <td>6762361067651541120</td>\n",
              "      <td>989309749</td>\n",
              "      <td>2015.5</td>\n",
              "      <td>288.003358</td>\n",
              "      <td>0.407178</td>\n",
              "      <td>-28.438865</td>\n",
              "      <td>0.409460</td>\n",
              "      <td>0.842596</td>\n",
              "      <td>0.504225</td>\n",
              "      <td>1.671072</td>\n",
              "      <td>-0.348522</td>\n",
              "      <td>0.790932</td>\n",
              "      <td>-3.172586</td>\n",
              "      <td>0.704208</td>\n",
              "      <td>0.263617</td>\n",
              "      <td>0.099503</td>\n",
              "      <td>-0.381846</td>\n",
              "      <td>-0.297245</td>\n",
              "      <td>-0.414585</td>\n",
              "      <td>-0.082580</td>\n",
              "      <td>-0.486889</td>\n",
              "      <td>-0.433665</td>\n",
              "      <td>0.194351</td>\n",
              "      <td>0.229415</td>\n",
              "      <td>159</td>\n",
              "      <td>0</td>\n",
              "      <td>156</td>\n",
              "      <td>3</td>\n",
              "      <td>-0.526508</td>\n",
              "      <td>141.394775</td>\n",
              "      <td>0.000000</td>\n",
              "      <td>0.000000</td>\n",
              "      <td>31</td>\n",
              "      <td>False</td>\n",
              "      <td>0.111708</td>\n",
              "      <td>1.488058</td>\n",
              "      <td>0.102410</td>\n",
              "      <td>0.087527</td>\n",
              "      <td>...</td>\n",
              "      <td>14</td>\n",
              "      <td>228.904163</td>\n",
              "      <td>11.170025</td>\n",
              "      <td>20.492718</td>\n",
              "      <td>18.862785</td>\n",
              "      <td>1.342689</td>\n",
              "      <td>0</td>\n",
              "      <td>1.601612</td>\n",
              "      <td>0.715635</td>\n",
              "      <td>0.885977</td>\n",
              "      <td>NaN</td>\n",
              "      <td>NaN</td>\n",
              "      <td>0</td>\n",
              "      <td>NaN</td>\n",
              "      <td>NaN</td>\n",
              "      <td>NaN</td>\n",
              "      <td>b'NOT_AVAILABLE'</td>\n",
              "      <td>9.043522</td>\n",
              "      <td>-16.697194</td>\n",
              "      <td>285.858677</td>\n",
              "      <td>-5.985347</td>\n",
              "      <td>NaN</td>\n",
              "      <td>NaN</td>\n",
              "      <td>NaN</td>\n",
              "      <td>NaN</td>\n",
              "      <td>NaN</td>\n",
              "      <td>NaN</td>\n",
              "      <td>NaN</td>\n",
              "      <td>NaN</td>\n",
              "      <td>NaN</td>\n",
              "      <td>NaN</td>\n",
              "      <td>NaN</td>\n",
              "      <td>NaN</td>\n",
              "      <td>NaN</td>\n",
              "      <td>NaN</td>\n",
              "      <td>NaN</td>\n",
              "      <td>NaN</td>\n",
              "      <td>NaN</td>\n",
              "      <td>b'https://gea.esac.esa.int/data-server/datalin...</td>\n",
              "      <td>b''</td>\n",
              "    </tr>\n",
              "    <tr>\n",
              "      <th>1</th>\n",
              "      <td>1635721458409799680</td>\n",
              "      <td>b'Gaia DR2 6762366638223571712'</td>\n",
              "      <td>6762366638223571712</td>\n",
              "      <td>494654874</td>\n",
              "      <td>2015.5</td>\n",
              "      <td>287.293071</td>\n",
              "      <td>0.764350</td>\n",
              "      <td>-28.901754</td>\n",
              "      <td>0.851167</td>\n",
              "      <td>0.408537</td>\n",
              "      <td>0.738620</td>\n",
              "      <td>0.553108</td>\n",
              "      <td>0.651199</td>\n",
              "      <td>1.385443</td>\n",
              "      <td>-4.033844</td>\n",
              "      <td>1.303187</td>\n",
              "      <td>0.559633</td>\n",
              "      <td>-0.160099</td>\n",
              "      <td>-0.542931</td>\n",
              "      <td>-0.297733</td>\n",
              "      <td>-0.487367</td>\n",
              "      <td>-0.162415</td>\n",
              "      <td>-0.579436</td>\n",
              "      <td>-0.130264</td>\n",
              "      <td>0.096564</td>\n",
              "      <td>0.169343</td>\n",
              "      <td>121</td>\n",
              "      <td>0</td>\n",
              "      <td>121</td>\n",
              "      <td>0</td>\n",
              "      <td>1.043232</td>\n",
              "      <td>131.899033</td>\n",
              "      <td>0.683646</td>\n",
              "      <td>0.232351</td>\n",
              "      <td>31</td>\n",
              "      <td>False</td>\n",
              "      <td>0.062876</td>\n",
              "      <td>1.623607</td>\n",
              "      <td>0.200891</td>\n",
              "      <td>0.105783</td>\n",
              "      <td>...</td>\n",
              "      <td>12</td>\n",
              "      <td>214.159499</td>\n",
              "      <td>20.209499</td>\n",
              "      <td>10.596972</td>\n",
              "      <td>18.935076</td>\n",
              "      <td>1.747071</td>\n",
              "      <td>0</td>\n",
              "      <td>1.446575</td>\n",
              "      <td>0.320843</td>\n",
              "      <td>1.125732</td>\n",
              "      <td>NaN</td>\n",
              "      <td>NaN</td>\n",
              "      <td>0</td>\n",
              "      <td>NaN</td>\n",
              "      <td>NaN</td>\n",
              "      <td>NaN</td>\n",
              "      <td>b'NOT_AVAILABLE'</td>\n",
              "      <td>8.349953</td>\n",
              "      <td>-16.296700</td>\n",
              "      <td>285.179990</td>\n",
              "      <td>-6.369223</td>\n",
              "      <td>NaN</td>\n",
              "      <td>NaN</td>\n",
              "      <td>NaN</td>\n",
              "      <td>NaN</td>\n",
              "      <td>NaN</td>\n",
              "      <td>NaN</td>\n",
              "      <td>NaN</td>\n",
              "      <td>NaN</td>\n",
              "      <td>NaN</td>\n",
              "      <td>NaN</td>\n",
              "      <td>NaN</td>\n",
              "      <td>NaN</td>\n",
              "      <td>NaN</td>\n",
              "      <td>NaN</td>\n",
              "      <td>NaN</td>\n",
              "      <td>NaN</td>\n",
              "      <td>NaN</td>\n",
              "      <td>b'https://gea.esac.esa.int/data-server/datalin...</td>\n",
              "      <td>b''</td>\n",
              "    </tr>\n",
              "    <tr>\n",
              "      <th>2</th>\n",
              "      <td>1635721458409799680</td>\n",
              "      <td>b'Gaia DR2 6762393644976162176'</td>\n",
              "      <td>6762393644976162176</td>\n",
              "      <td>247327437</td>\n",
              "      <td>2015.5</td>\n",
              "      <td>287.197619</td>\n",
              "      <td>0.495758</td>\n",
              "      <td>-28.547955</td>\n",
              "      <td>0.452041</td>\n",
              "      <td>0.483511</td>\n",
              "      <td>0.509193</td>\n",
              "      <td>0.949564</td>\n",
              "      <td>-5.256142</td>\n",
              "      <td>1.118239</td>\n",
              "      <td>-6.222628</td>\n",
              "      <td>0.945072</td>\n",
              "      <td>0.150596</td>\n",
              "      <td>-0.076288</td>\n",
              "      <td>0.104770</td>\n",
              "      <td>-0.354245</td>\n",
              "      <td>-0.305021</td>\n",
              "      <td>-0.392987</td>\n",
              "      <td>-0.078794</td>\n",
              "      <td>0.177371</td>\n",
              "      <td>-0.017550</td>\n",
              "      <td>0.133286</td>\n",
              "      <td>116</td>\n",
              "      <td>0</td>\n",
              "      <td>116</td>\n",
              "      <td>0</td>\n",
              "      <td>1.150979</td>\n",
              "      <td>128.311829</td>\n",
              "      <td>0.000000</td>\n",
              "      <td>0.000000</td>\n",
              "      <td>31</td>\n",
              "      <td>False</td>\n",
              "      <td>0.099373</td>\n",
              "      <td>1.380879</td>\n",
              "      <td>0.104956</td>\n",
              "      <td>-0.086077</td>\n",
              "      <td>...</td>\n",
              "      <td>10</td>\n",
              "      <td>324.908798</td>\n",
              "      <td>12.980568</td>\n",
              "      <td>25.030399</td>\n",
              "      <td>18.482517</td>\n",
              "      <td>1.493621</td>\n",
              "      <td>0</td>\n",
              "      <td>2.335777</td>\n",
              "      <td>1.171871</td>\n",
              "      <td>1.163906</td>\n",
              "      <td>NaN</td>\n",
              "      <td>NaN</td>\n",
              "      <td>0</td>\n",
              "      <td>NaN</td>\n",
              "      <td>NaN</td>\n",
              "      <td>NaN</td>\n",
              "      <td>b'NOT_AVAILABLE'</td>\n",
              "      <td>8.657051</td>\n",
              "      <td>-16.084089</td>\n",
              "      <td>285.138601</td>\n",
              "      <td>-6.007993</td>\n",
              "      <td>NaN</td>\n",
              "      <td>NaN</td>\n",
              "      <td>NaN</td>\n",
              "      <td>NaN</td>\n",
              "      <td>NaN</td>\n",
              "      <td>NaN</td>\n",
              "      <td>NaN</td>\n",
              "      <td>NaN</td>\n",
              "      <td>NaN</td>\n",
              "      <td>NaN</td>\n",
              "      <td>NaN</td>\n",
              "      <td>NaN</td>\n",
              "      <td>NaN</td>\n",
              "      <td>NaN</td>\n",
              "      <td>NaN</td>\n",
              "      <td>NaN</td>\n",
              "      <td>NaN</td>\n",
              "      <td>b'https://gea.esac.esa.int/data-server/datalin...</td>\n",
              "      <td>b''</td>\n",
              "    </tr>\n",
              "    <tr>\n",
              "      <th>3</th>\n",
              "      <td>1635721458409799680</td>\n",
              "      <td>b'Gaia DR2 6762378080023123328'</td>\n",
              "      <td>6762378080023123328</td>\n",
              "      <td>123663718</td>\n",
              "      <td>2015.5</td>\n",
              "      <td>287.455856</td>\n",
              "      <td>1.429679</td>\n",
              "      <td>-28.656079</td>\n",
              "      <td>1.547480</td>\n",
              "      <td>NaN</td>\n",
              "      <td>NaN</td>\n",
              "      <td>NaN</td>\n",
              "      <td>NaN</td>\n",
              "      <td>NaN</td>\n",
              "      <td>NaN</td>\n",
              "      <td>NaN</td>\n",
              "      <td>0.772307</td>\n",
              "      <td>NaN</td>\n",
              "      <td>NaN</td>\n",
              "      <td>NaN</td>\n",
              "      <td>NaN</td>\n",
              "      <td>NaN</td>\n",
              "      <td>NaN</td>\n",
              "      <td>NaN</td>\n",
              "      <td>NaN</td>\n",
              "      <td>NaN</td>\n",
              "      <td>86</td>\n",
              "      <td>0</td>\n",
              "      <td>86</td>\n",
              "      <td>0</td>\n",
              "      <td>-0.164558</td>\n",
              "      <td>78.270103</td>\n",
              "      <td>0.000000</td>\n",
              "      <td>0.000000</td>\n",
              "      <td>3</td>\n",
              "      <td>False</td>\n",
              "      <td>0.034124</td>\n",
              "      <td>NaN</td>\n",
              "      <td>NaN</td>\n",
              "      <td>0.130838</td>\n",
              "      <td>...</td>\n",
              "      <td>8</td>\n",
              "      <td>104.453887</td>\n",
              "      <td>12.832935</td>\n",
              "      <td>8.139517</td>\n",
              "      <td>19.714609</td>\n",
              "      <td>1.444683</td>\n",
              "      <td>0</td>\n",
              "      <td>0.994591</td>\n",
              "      <td>0.237514</td>\n",
              "      <td>0.757076</td>\n",
              "      <td>NaN</td>\n",
              "      <td>NaN</td>\n",
              "      <td>0</td>\n",
              "      <td>NaN</td>\n",
              "      <td>NaN</td>\n",
              "      <td>NaN</td>\n",
              "      <td>b'NOT_AVAILABLE'</td>\n",
              "      <td>8.643284</td>\n",
              "      <td>-16.334926</td>\n",
              "      <td>285.352027</td>\n",
              "      <td>-6.142357</td>\n",
              "      <td>NaN</td>\n",
              "      <td>NaN</td>\n",
              "      <td>NaN</td>\n",
              "      <td>NaN</td>\n",
              "      <td>NaN</td>\n",
              "      <td>NaN</td>\n",
              "      <td>NaN</td>\n",
              "      <td>NaN</td>\n",
              "      <td>NaN</td>\n",
              "      <td>NaN</td>\n",
              "      <td>NaN</td>\n",
              "      <td>NaN</td>\n",
              "      <td>NaN</td>\n",
              "      <td>NaN</td>\n",
              "      <td>NaN</td>\n",
              "      <td>NaN</td>\n",
              "      <td>NaN</td>\n",
              "      <td>b'https://gea.esac.esa.int/data-server/datalin...</td>\n",
              "      <td>b''</td>\n",
              "    </tr>\n",
              "    <tr>\n",
              "      <th>4</th>\n",
              "      <td>1635721458409799680</td>\n",
              "      <td>b'Gaia DR2 6762400207691742336'</td>\n",
              "      <td>6762400207691742336</td>\n",
              "      <td>61831859</td>\n",
              "      <td>2015.5</td>\n",
              "      <td>287.205309</td>\n",
              "      <td>2.623337</td>\n",
              "      <td>-28.376847</td>\n",
              "      <td>3.860026</td>\n",
              "      <td>NaN</td>\n",
              "      <td>NaN</td>\n",
              "      <td>NaN</td>\n",
              "      <td>NaN</td>\n",
              "      <td>NaN</td>\n",
              "      <td>NaN</td>\n",
              "      <td>NaN</td>\n",
              "      <td>0.780229</td>\n",
              "      <td>NaN</td>\n",
              "      <td>NaN</td>\n",
              "      <td>NaN</td>\n",
              "      <td>NaN</td>\n",
              "      <td>NaN</td>\n",
              "      <td>NaN</td>\n",
              "      <td>NaN</td>\n",
              "      <td>NaN</td>\n",
              "      <td>NaN</td>\n",
              "      <td>51</td>\n",
              "      <td>0</td>\n",
              "      <td>51</td>\n",
              "      <td>0</td>\n",
              "      <td>-1.634280</td>\n",
              "      <td>31.516735</td>\n",
              "      <td>0.000000</td>\n",
              "      <td>0.000000</td>\n",
              "      <td>3</td>\n",
              "      <td>False</td>\n",
              "      <td>0.019662</td>\n",
              "      <td>NaN</td>\n",
              "      <td>NaN</td>\n",
              "      <td>-0.005438</td>\n",
              "      <td>...</td>\n",
              "      <td>6</td>\n",
              "      <td>112.676450</td>\n",
              "      <td>13.298103</td>\n",
              "      <td>8.473122</td>\n",
              "      <td>19.632338</td>\n",
              "      <td>1.432219</td>\n",
              "      <td>0</td>\n",
              "      <td>2.185921</td>\n",
              "      <td>1.094070</td>\n",
              "      <td>1.091850</td>\n",
              "      <td>NaN</td>\n",
              "      <td>NaN</td>\n",
              "      <td>0</td>\n",
              "      <td>NaN</td>\n",
              "      <td>NaN</td>\n",
              "      <td>NaN</td>\n",
              "      <td>b'NOT_AVAILABLE'</td>\n",
              "      <td>8.824173</td>\n",
              "      <td>-16.024674</td>\n",
              "      <td>285.165696</td>\n",
              "      <td>-5.838885</td>\n",
              "      <td>NaN</td>\n",
              "      <td>NaN</td>\n",
              "      <td>NaN</td>\n",
              "      <td>NaN</td>\n",
              "      <td>NaN</td>\n",
              "      <td>NaN</td>\n",
              "      <td>NaN</td>\n",
              "      <td>NaN</td>\n",
              "      <td>NaN</td>\n",
              "      <td>NaN</td>\n",
              "      <td>NaN</td>\n",
              "      <td>NaN</td>\n",
              "      <td>NaN</td>\n",
              "      <td>NaN</td>\n",
              "      <td>NaN</td>\n",
              "      <td>NaN</td>\n",
              "      <td>NaN</td>\n",
              "      <td>b'https://gea.esac.esa.int/data-server/datalin...</td>\n",
              "      <td>b''</td>\n",
              "    </tr>\n",
              "  </tbody>\n",
              "</table>\n",
              "<p>5 rows × 96 columns</p>\n",
              "</div>"
            ],
            "text/plain": [
              "           solution_id  ... epoch_photometry_url\n",
              "0  1635721458409799680  ...                  b''\n",
              "1  1635721458409799680  ...                  b''\n",
              "2  1635721458409799680  ...                  b''\n",
              "3  1635721458409799680  ...                  b''\n",
              "4  1635721458409799680  ...                  b''\n",
              "\n",
              "[5 rows x 96 columns]"
            ]
          },
          "metadata": {
            "tags": []
          },
          "execution_count": 24
        }
      ]
    },
    {
      "cell_type": "code",
      "metadata": {
        "id": "G7sAgK79_GeO",
        "colab_type": "code",
        "colab": {
          "base_uri": "https://localhost:8080/",
          "height": 1000
        },
        "outputId": "55b71e46-32ee-4857-98cd-bcb66e395ca1"
      },
      "source": [
        "# alternate method for looking at column names\n",
        "for col in sample_df.columns:\n",
        "    print(col)"
      ],
      "execution_count": 25,
      "outputs": [
        {
          "output_type": "stream",
          "text": [
            "solution_id\n",
            "designation\n",
            "source_id\n",
            "random_index\n",
            "ref_epoch\n",
            "ra\n",
            "ra_error\n",
            "dec\n",
            "dec_error\n",
            "parallax\n",
            "parallax_error\n",
            "parallax_over_error\n",
            "pmra\n",
            "pmra_error\n",
            "pmdec\n",
            "pmdec_error\n",
            "ra_dec_corr\n",
            "ra_parallax_corr\n",
            "ra_pmra_corr\n",
            "ra_pmdec_corr\n",
            "dec_parallax_corr\n",
            "dec_pmra_corr\n",
            "dec_pmdec_corr\n",
            "parallax_pmra_corr\n",
            "parallax_pmdec_corr\n",
            "pmra_pmdec_corr\n",
            "astrometric_n_obs_al\n",
            "astrometric_n_obs_ac\n",
            "astrometric_n_good_obs_al\n",
            "astrometric_n_bad_obs_al\n",
            "astrometric_gof_al\n",
            "astrometric_chi2_al\n",
            "astrometric_excess_noise\n",
            "astrometric_excess_noise_sig\n",
            "astrometric_params_solved\n",
            "astrometric_primary_flag\n",
            "astrometric_weight_al\n",
            "astrometric_pseudo_colour\n",
            "astrometric_pseudo_colour_error\n",
            "mean_varpi_factor_al\n",
            "astrometric_matched_observations\n",
            "visibility_periods_used\n",
            "astrometric_sigma5d_max\n",
            "frame_rotator_object_type\n",
            "matched_observations\n",
            "duplicated_source\n",
            "phot_g_n_obs\n",
            "phot_g_mean_flux\n",
            "phot_g_mean_flux_error\n",
            "phot_g_mean_flux_over_error\n",
            "phot_g_mean_mag\n",
            "phot_bp_n_obs\n",
            "phot_bp_mean_flux\n",
            "phot_bp_mean_flux_error\n",
            "phot_bp_mean_flux_over_error\n",
            "phot_bp_mean_mag\n",
            "phot_rp_n_obs\n",
            "phot_rp_mean_flux\n",
            "phot_rp_mean_flux_error\n",
            "phot_rp_mean_flux_over_error\n",
            "phot_rp_mean_mag\n",
            "phot_bp_rp_excess_factor\n",
            "phot_proc_mode\n",
            "bp_rp\n",
            "bp_g\n",
            "g_rp\n",
            "radial_velocity\n",
            "radial_velocity_error\n",
            "rv_nb_transits\n",
            "rv_template_teff\n",
            "rv_template_logg\n",
            "rv_template_fe_h\n",
            "phot_variable_flag\n",
            "l\n",
            "b\n",
            "ecl_lon\n",
            "ecl_lat\n",
            "priam_flags\n",
            "teff_val\n",
            "teff_percentile_lower\n",
            "teff_percentile_upper\n",
            "a_g_val\n",
            "a_g_percentile_lower\n",
            "a_g_percentile_upper\n",
            "e_bp_min_rp_val\n",
            "e_bp_min_rp_percentile_lower\n",
            "e_bp_min_rp_percentile_upper\n",
            "flame_flags\n",
            "radius_val\n",
            "radius_percentile_lower\n",
            "radius_percentile_upper\n",
            "lum_val\n",
            "lum_percentile_lower\n",
            "lum_percentile_upper\n",
            "datalink_url\n",
            "epoch_photometry_url\n"
          ],
          "name": "stdout"
        }
      ]
    },
    {
      "cell_type": "markdown",
      "metadata": {
        "id": "-myWEkIo_GeQ",
        "colab_type": "text"
      },
      "source": [
        "# Getting data for a star cluster\n",
        "Now let's retrieve data centered on the Pleiades cluster.<br>\n",
        "<img src=\"https://earthsky.org/upl/2018/11/pleiades-seven-sisters-nov2019-e1572962425736.jpg\" width=800 />\n",
        "\n",
        "Image credit: Steve Paukin captured this image in his back yard in Winslow, Arizona on November 3, 2019.<br>\n",
        "https://earthsky.org/favorite-star-patterns/pleiades-star-cluster-enjoys-worldwide-renown"
      ]
    },
    {
      "cell_type": "markdown",
      "metadata": {
        "id": "2tWgzt2M-XEj",
        "colab_type": "text"
      },
      "source": [
        "Let's look up where the Pleiades are in the sky and how big the cluster appears. We'll convert to decimal degress. Here's data from https://en.wikipedia.org/wiki/Pleiades:\n",
        "\n",
        "| Observation data (J2000 epoch) |                                   |\n",
        "| ------------------------------ | --------------------------------- |\n",
        "| Constellation                  | Taurus                            |\n",
        "| Right ascension                | 03h 47m 24s                       |\n",
        "| Declination                    | +24° 07′ 00″                      |\n",
        "| Distance                       | 444 ly on average (136.2±1.2 pc)  |\n",
        "| Apparent magnitude (V)         | 1.6                               |\n",
        "| Apparent dimensions (V)        | 110' (arcmin)                     |\n",
        "| **Physical characteristics**   |                                   |\n",
        "| Other designations             | Seven Sisters, M45, Cr 42, Mel 22 |\n",
        "\n",
        "This data is often given in degrees, minutes, and seconds. We'll make convenience functions to convert degrees, minutes, seconds and hours, minutes, seconds to decimal degrees."
      ]
    },
    {
      "cell_type": "code",
      "metadata": {
        "id": "nsru5CxAEWHb",
        "colab_type": "code",
        "colab": {}
      },
      "source": [
        "def dms_to_dd(sign, d, m, s):\n",
        "    dd = abs(d) + float(abs(m))/60 + float(abs(s))/3600\n",
        "    if sign=='-':\n",
        "        dd *= -1\n",
        "    elif sign!='+':\n",
        "        assert False, \"Don't forget to include a sign. For example, dms_to_dd('-', 5, 23, 28)\"\n",
        "    return dd\n",
        "\n",
        "def hms_to_dd(h, m, s):\n",
        "    dd = h*15 + float(m)/4 + float(s)/240\n",
        "    return dd"
      ],
      "execution_count": 26,
      "outputs": []
    },
    {
      "cell_type": "markdown",
      "metadata": {
        "id": "8RZZi0X9EeJ_",
        "colab_type": "text"
      },
      "source": [
        "In the above table, right ascension is given as 03h 47m 24s. In decimal degrees, that would be:"
      ]
    },
    {
      "cell_type": "code",
      "metadata": {
        "id": "TFdbqiWCEZr_",
        "colab_type": "code",
        "colab": {
          "base_uri": "https://localhost:8080/",
          "height": 34
        },
        "outputId": "194b9b9a-f772-4744-80f9-d8c61cd65385"
      },
      "source": [
        "hms_to_dd(3, 47, 24)"
      ],
      "execution_count": 27,
      "outputs": [
        {
          "output_type": "execute_result",
          "data": {
            "text/plain": [
              "56.85"
            ]
          },
          "metadata": {
            "tags": []
          },
          "execution_count": 27
        }
      ]
    },
    {
      "cell_type": "markdown",
      "metadata": {
        "id": "WkffNZkxHWh4",
        "colab_type": "text"
      },
      "source": [
        "Converting declination +24º 7' 0\" to decimal degrees gives (note we have to include the sign, `'+'` or `'-'`)"
      ]
    },
    {
      "cell_type": "code",
      "metadata": {
        "id": "zf8s4evmHh6X",
        "colab_type": "code",
        "colab": {
          "base_uri": "https://localhost:8080/",
          "height": 34
        },
        "outputId": "425f2931-c9d1-4ed4-d1ea-92ea705d42c9"
      },
      "source": [
        "dms_to_dd('+', 24, 7, 0)"
      ],
      "execution_count": 28,
      "outputs": [
        {
          "output_type": "execute_result",
          "data": {
            "text/plain": [
              "24.116666666666667"
            ]
          },
          "metadata": {
            "tags": []
          },
          "execution_count": 28
        }
      ]
    },
    {
      "cell_type": "markdown",
      "metadata": {
        "id": "vZOkSXYLHq1M",
        "colab_type": "text"
      },
      "source": [
        "Finally, we will look at this part of the sky with a search radius of 110' (arcminutes). In decimal degrees, that's:"
      ]
    },
    {
      "cell_type": "code",
      "metadata": {
        "id": "aQG1DFx0H5x-",
        "colab_type": "code",
        "colab": {
          "base_uri": "https://localhost:8080/",
          "height": 34
        },
        "outputId": "2bb5c3b0-6563-41f4-fcd2-b8a5e1706043"
      },
      "source": [
        "dms_to_dd('+', 0, 110, 0)"
      ],
      "execution_count": 29,
      "outputs": [
        {
          "output_type": "execute_result",
          "data": {
            "text/plain": [
              "1.8333333333333333"
            ]
          },
          "metadata": {
            "tags": []
          },
          "execution_count": 29
        }
      ]
    },
    {
      "cell_type": "markdown",
      "metadata": {
        "id": "8RlBEOG749PT",
        "colab_type": "text"
      },
      "source": [
        "Now were ready to ask Gaia for stars at coordinates (56.85, 24.1167) with a search radius of 1.8333º. We don't need data from all columns. Let's specify:\n",
        "\n",
        "apparent magnitude, `phot_g_mean_mag` and rename it as `gmag`<br>\n",
        "right ascension,    `ra`<br>\n",
        "declination,        `dec`<br>\n",
        "parallax,           `parallax` renamed as `plx`<br>\n",
        "color (bp-rp),      `bp_rp`<br>\n",
        "luminosity in solar units, `lum_val`<br>\n",
        "effective temperature, `teff_val`<br>\n",
        "radius in solar radii, `radius_val`<br>\n",
        "\n",
        "We also want absolute magnitude and distance in light years, but we can calculate these from the above data."
      ]
    },
    {
      "cell_type": "code",
      "metadata": {
        "id": "PGu4gGt4_GeS",
        "colab_type": "code",
        "colab": {
          "base_uri": "https://localhost:8080/",
          "height": 34
        },
        "outputId": "77470a93-bcaf-4597-a9f5-85fec77ebfff"
      },
      "source": [
        "timer_start()\n",
        "job = Gaia.launch_job(\"SELECT phot_g_mean_mag as gmag, ra, dec, parallax as plx, bp_rp, lum_val, teff_val, radius_val \\\n",
        "FROM gaiadr2.gaia_source \\\n",
        "WHERE CONTAINS(POINT('ICRS',ra,dec),CIRCLE('ICRS',56.85,24.1167,1.8333))=1 \\\n",
        "AND parallax IS NOT NULL AND abs(parallax)>0 \\\n",
        "AND parallax_over_error>10 \\\n",
        "AND abs(pmra_error/pmra)<0.10 \\\n",
        "AND abs(pmdec_error/pmdec)<0.10 \\\n",
        "AND pmra IS NOT NULL AND abs(pmra)>0 \\\n",
        "AND pmdec IS NOT NULL AND abs(pmdec)>0 \\\n",
        "AND pmra BETWEEN 15 AND 25 \\\n",
        "AND pmdec BETWEEN -55 AND -40;\"\n",
        ", dump_to_file=False)\n",
        "timer_stop()"
      ],
      "execution_count": 30,
      "outputs": [
        {
          "output_type": "stream",
          "text": [
            "18 seconds elapsed\n"
          ],
          "name": "stdout"
        }
      ]
    },
    {
      "cell_type": "code",
      "metadata": {
        "id": "Rf7VGT0O_GeT",
        "colab_type": "code",
        "colab": {
          "base_uri": "https://localhost:8080/",
          "height": 289
        },
        "outputId": "f4b58fc5-b4aa-4e5f-915a-392a76556dbc"
      },
      "source": [
        "print(job)"
      ],
      "execution_count": 31,
      "outputs": [
        {
          "output_type": "stream",
          "text": [
            "<Table length=981>\n",
            "   name     dtype  unit          description          n_bad\n",
            "---------- ------- ---- ----------------------------- -----\n",
            "      gmag float32  mag         G-band mean magnitude     0\n",
            "        ra float64  deg               Right ascension     0\n",
            "       dec float64  deg                   Declination     0\n",
            "       plx float64  mas                      Parallax     0\n",
            "     bp_rp float32  mag                BP - RP colour    16\n",
            "   lum_val float32 Lsun            stellar luminosity   679\n",
            "  teff_val float32    K stellar effective temperature   298\n",
            "radius_val float32 Rsun                stellar radius   679\n",
            "Jobid: None\n",
            "Phase: COMPLETED\n",
            "Owner: None\n",
            "Output file: sync_20200922203937.xml.gz\n",
            "Results: None\n"
          ],
          "name": "stdout"
        }
      ]
    },
    {
      "cell_type": "code",
      "metadata": {
        "id": "gy14zXcH_GeV",
        "colab_type": "code",
        "colab": {
          "base_uri": "https://localhost:8080/",
          "height": 153
        },
        "outputId": "89d8330c-582b-4274-a6a2-d98a983b9ad1"
      },
      "source": [
        "# load results into a pandas dataframe\n",
        "df = (job.get_results()).to_pandas()\n",
        "\n",
        "for col in df.columns:\n",
        "    print(col)"
      ],
      "execution_count": 32,
      "outputs": [
        {
          "output_type": "stream",
          "text": [
            "gmag\n",
            "ra\n",
            "dec\n",
            "plx\n",
            "bp_rp\n",
            "lum_val\n",
            "teff_val\n",
            "radius_val\n"
          ],
          "name": "stdout"
        }
      ]
    },
    {
      "cell_type": "markdown",
      "metadata": {
        "id": "XVVWGtTn_Geh",
        "colab_type": "text"
      },
      "source": [
        "# Calculating absolute magnitude\n",
        "\n",
        "Solving for absolute magnitude, $M$, from apparant magnitude, $m$ (which we have in column `gmag`). We'll use the formula for the distance modulus, $m - M$:\n",
        "$$m - M = 5\\cdot\\log{d} - 5$$<br>\n",
        "$$m - 5\\cdot\\log{d} + 5 = M$$<br>\n",
        "Note that $d = 1/\\omega$, where $d$ is distance measured in parsecs and $\\omega$ is parallax measured in arcseconds.<br>\n",
        "Our data column, `plx`, is parallax measured in milliarcseconds, so $\\omega = $ `plx` $/1000$ and $d = 1000/$`plx`<br>\n",
        "$$m - 5\\cdot\\log{\\frac{1}{\\omega}} + 5 = M$$<br>\n",
        "$$m - 5\\cdot\\log{\\frac{1000}{\\mathtt{plx}}} + 5 = M$$<br>\n",
        "$$m - 5(\\log{1000} - \\log{\\mathtt{plx}}) + 5 = M$$<br>\n",
        "$$m - 5(3 - \\log{\\mathtt{plx}}) + 5 = M$$<br>\n",
        "$$m - 15 + 5\\cdot\\log{\\mathtt{plx}} + 5 = M$$<br>\n",
        "$$m + 5\\cdot\\log{\\mathtt{plx}} - 10 = M$$<br>"
      ]
    },
    {
      "cell_type": "code",
      "metadata": {
        "id": "P3DkVAaC_Gej",
        "colab_type": "code",
        "colab": {
          "base_uri": "https://localhost:8080/",
          "height": 170
        },
        "outputId": "34450c1a-d705-43dd-dbf6-3e118bf45119"
      },
      "source": [
        "# calculate absolute magnitude and add a new column (M)\n",
        "df['M'] = df['gmag'] + 5*np.log10(df['plx']) - 10\n",
        "df['M'].describe()"
      ],
      "execution_count": 33,
      "outputs": [
        {
          "output_type": "execute_result",
          "data": {
            "text/plain": [
              "count    981.000000\n",
              "mean       9.331787\n",
              "std        3.139275\n",
              "min       -1.839828\n",
              "25%        7.722490\n",
              "50%       10.318406\n",
              "75%       11.542744\n",
              "max       14.607621\n",
              "Name: M, dtype: float64"
            ]
          },
          "metadata": {
            "tags": []
          },
          "execution_count": 33
        }
      ]
    },
    {
      "cell_type": "markdown",
      "metadata": {
        "id": "pn5HSBU7PLFz",
        "colab_type": "text"
      },
      "source": [
        "# Calculating and verifying distance by applying a \"reasonableness test\""
      ]
    },
    {
      "cell_type": "code",
      "metadata": {
        "id": "s6mfsWBe_Geo",
        "colab_type": "code",
        "colab": {}
      },
      "source": [
        "# calculate distance in LY and add a new data column\n",
        "# d = 1/p when distance (d) is in parsecs and parallax (p) is in arcseconds, or d = 1000/plx\n",
        "# There are 3.26156 light-years (LY) in one parsec, so LY = 3261.56/plx\n",
        "df['LY'] = 3261.56/df['plx']"
      ],
      "execution_count": 34,
      "outputs": []
    },
    {
      "cell_type": "markdown",
      "metadata": {
        "id": "lEdb9DUH5Q5e",
        "colab_type": "text"
      },
      "source": [
        "Since we know that The Pleiades should be about 444 LY on average, let's see how far away our stars are."
      ]
    },
    {
      "cell_type": "code",
      "metadata": {
        "id": "BQhNnDLP_Geq",
        "colab_type": "code",
        "colab": {
          "base_uri": "https://localhost:8080/",
          "height": 170
        },
        "outputId": "46f30cb6-d88f-439f-f36c-5ba941598969"
      },
      "source": [
        "df['LY'].describe()"
      ],
      "execution_count": 35,
      "outputs": [
        {
          "output_type": "execute_result",
          "data": {
            "text/plain": [
              "count     981.000000\n",
              "mean      466.915877\n",
              "std       196.446429\n",
              "min       257.328701\n",
              "25%       435.902904\n",
              "50%       444.628734\n",
              "75%       454.248469\n",
              "max      3966.010764\n",
              "Name: LY, dtype: float64"
            ]
          },
          "metadata": {
            "tags": []
          },
          "execution_count": 35
        }
      ]
    },
    {
      "cell_type": "markdown",
      "metadata": {
        "id": "aYVVlhgF6Wiz",
        "colab_type": "text"
      },
      "source": [
        "The average, 466.9 LY, looks *pretty* good, but look at that maximum value! 3966 LY is way too far. Also, the minimum, 257.3 LY, seems too near. That's likely to be a star that happens to be in front of The Pleiades from our perspective.\n",
        "\n",
        "Let's plot a histogram to see what the distribution of distances looks like."
      ]
    },
    {
      "cell_type": "code",
      "metadata": {
        "id": "b2w6C7uu6nyI",
        "colab_type": "code",
        "colab": {
          "base_uri": "https://localhost:8080/",
          "height": 279
        },
        "outputId": "24fea4a4-2e9c-4f93-f551-525f4ab3cf1d"
      },
      "source": [
        "import matplotlib.pyplot as plt\n",
        "import seaborn as sns\n",
        "%matplotlib inline\n",
        "\n",
        "# Plot a histogram with equally spaced bins\n",
        "sns.distplot(df['LY'],\n",
        "             bins = 50, # try different numbers of bins\n",
        "             kde=True,  # add a smooth curve using a kernel density estimate\n",
        ")\n",
        "\n",
        "plt.show()"
      ],
      "execution_count": 36,
      "outputs": [
        {
          "output_type": "display_data",
          "data": {
            "image/png": "[encoded data removed]",
            "text/plain": [
              "<Figure size 432x288 with 1 Axes>"
            ]
          },
          "metadata": {
            "tags": [],
            "needs_background": "light"
          }
        }
      ]
    },
    {
      "cell_type": "markdown",
      "metadata": {
        "id": "BtBtob-79OOB",
        "colab_type": "text"
      },
      "source": [
        "We definitely have outliers. Our wikipedia article told us to expect 136.2±1.2 pc (parsecs). That's a variation of ±0.9%."
      ]
    },
    {
      "cell_type": "code",
      "metadata": {
        "id": "A35tqpsf-NVB",
        "colab_type": "code",
        "colab": {}
      },
      "source": [
        "from scipy import stats\n",
        "\n",
        "# Remove outliers and make a new dataframe\n",
        "df = df[(np.abs(stats.zscore(df['LY'])) < 0.25)] # only keep data within 0.25 standard deviations from the mean, assuming a Gaussian distribution"
      ],
      "execution_count": 37,
      "outputs": []
    },
    {
      "cell_type": "code",
      "metadata": {
        "id": "2Fpv6ZPP-iBy",
        "colab_type": "code",
        "colab": {
          "base_uri": "https://localhost:8080/",
          "height": 279
        },
        "outputId": "a0694ada-88ef-4b7a-92ab-a0f4fdc13505"
      },
      "source": [
        "sns.distplot(df['LY'], kde=True)\n",
        "\n",
        "plt.show()"
      ],
      "execution_count": 38,
      "outputs": [
        {
          "output_type": "display_data",
          "data": {
            "image/png": "[encoded data removed]",
            "text/plain": [
              "<Figure size 432x288 with 1 Axes>"
            ]
          },
          "metadata": {
            "tags": [],
            "needs_background": "light"
          }
        }
      ]
    },
    {
      "cell_type": "code",
      "metadata": {
        "id": "qiEG4Tbj_mN4",
        "colab_type": "code",
        "colab": {
          "base_uri": "https://localhost:8080/",
          "height": 170
        },
        "outputId": "fcc5fdc1-cc1c-49f1-fe43-e037147a1914"
      },
      "source": [
        "df['LY'].describe()"
      ],
      "execution_count": 39,
      "outputs": [
        {
          "output_type": "execute_result",
          "data": {
            "text/plain": [
              "count    879.000000\n",
              "mean     447.642453\n",
              "std       15.534001\n",
              "min      419.081003\n",
              "25%      438.251131\n",
              "50%      445.488274\n",
              "75%      454.182430\n",
              "max      513.005892\n",
              "Name: LY, dtype: float64"
            ]
          },
          "metadata": {
            "tags": []
          },
          "execution_count": 39
        }
      ]
    },
    {
      "cell_type": "markdown",
      "metadata": {
        "id": "RvAmuWcpFwVm",
        "colab_type": "text"
      },
      "source": [
        "Getting better. The average is 447.6 LY. By eye, it looks like stars farther than about 470 LY still seem to be outliers. Let's chop them off and see where we stand."
      ]
    },
    {
      "cell_type": "code",
      "metadata": {
        "id": "A8dUdRFkMv82",
        "colab_type": "code",
        "colab": {
          "base_uri": "https://localhost:8080/",
          "height": 279
        },
        "outputId": "1990da6e-ea1d-4af4-9c9e-0b71d4e5ec31"
      },
      "source": [
        "df = df[df['LY']<=470]\n",
        "sns.distplot(df['LY'], kde=True)\n",
        "plt.show()"
      ],
      "execution_count": 40,
      "outputs": [
        {
          "output_type": "display_data",
          "data": {
            "image/png": "[encoded data removed]",
            "text/plain": [
              "<Figure size 432x288 with 1 Axes>"
            ]
          },
          "metadata": {
            "tags": [],
            "needs_background": "light"
          }
        }
      ]
    },
    {
      "cell_type": "code",
      "metadata": {
        "id": "ISQpM8DuLxBE",
        "colab_type": "code",
        "colab": {
          "base_uri": "https://localhost:8080/",
          "height": 170
        },
        "outputId": "4da18c50-9c87-4aa9-8597-135a62df5990"
      },
      "source": [
        "df['LY'].describe()"
      ],
      "execution_count": 41,
      "outputs": [
        {
          "output_type": "execute_result",
          "data": {
            "text/plain": [
              "count    810.000000\n",
              "mean     444.382807\n",
              "std       10.729159\n",
              "min      419.081003\n",
              "25%      437.655609\n",
              "50%      444.164976\n",
              "75%      451.569473\n",
              "max      469.996044\n",
              "Name: LY, dtype: float64"
            ]
          },
          "metadata": {
            "tags": []
          },
          "execution_count": 41
        }
      ]
    },
    {
      "cell_type": "markdown",
      "metadata": {
        "id": "YkEXmQnlOm0j",
        "colab_type": "text"
      },
      "source": [
        "That's much better."
      ]
    },
    {
      "cell_type": "markdown",
      "metadata": {
        "id": "Bn4tAZNq_Ger",
        "colab_type": "text"
      },
      "source": [
        "# Calculating Luminosity\n",
        "\n",
        "Now that we have absolute magnitude (column `M`), we can solve for luminosity in terms of multiples of luminosity of the sun, or $\\frac{L}{L_{☉}}$, using:\n",
        "$$M = +4.77 - 2.5 \\cdot log\\frac{L}{L_{☉}}$$<br>\n",
        "$$2.5 \\cdot log\\frac{L}{L_{☉}} = 4.77 - M$$<br>\n",
        "$$log\\frac{L}{L_{☉}} = \\frac{4.77 - M}{2.5}$$<br>\n",
        "$$\\frac{L}{L_{☉}} = 10^{\\frac{4.77 - M}{2.5}}$$<br>\n",
        "from http://hosting.astro.cornell.edu/academics/courses/astro201/mag_absolute.htm"
      ]
    },
    {
      "cell_type": "code",
      "metadata": {
        "id": "nyrcwkcy_Ger",
        "colab_type": "code",
        "colab": {}
      },
      "source": [
        "# add a new column ('L_sun') for luminosity in terms of multiples of solar luminosity\n",
        "df['L_sun'] = np.power(10,[(4.77-m)/2.5 for m in df['M']])"
      ],
      "execution_count": 42,
      "outputs": []
    },
    {
      "cell_type": "code",
      "metadata": {
        "id": "jalDHJDa_Get",
        "colab_type": "code",
        "colab": {
          "base_uri": "https://localhost:8080/",
          "height": 170
        },
        "outputId": "f1649582-3ef6-4f10-9119-45f596fb8bc7"
      },
      "source": [
        "df['L_sun'].describe()"
      ],
      "execution_count": 43,
      "outputs": [
        {
          "output_type": "execute_result",
          "data": {
            "text/plain": [
              "count    810.000000\n",
              "mean       1.499637\n",
              "std        8.398423\n",
              "min        0.000179\n",
              "25%        0.002089\n",
              "50%        0.006225\n",
              "75%        0.077586\n",
              "max      114.327997\n",
              "Name: L_sun, dtype: float64"
            ]
          },
          "metadata": {
            "tags": []
          },
          "execution_count": 43
        }
      ]
    },
    {
      "cell_type": "markdown",
      "metadata": {
        "id": "6ha9YoCc_Geu",
        "colab_type": "text"
      },
      "source": [
        "Our Gaia data already supplies luminosity (column `lum_val`) for some stars. Let's look at it. Note that `NaN`, for \"not a number\", appears when no data is provided."
      ]
    },
    {
      "cell_type": "code",
      "metadata": {
        "id": "fcs4BN1D_Geu",
        "colab_type": "code",
        "colab": {
          "base_uri": "https://localhost:8080/",
          "height": 221
        },
        "outputId": "6aa4f56b-9a6e-444c-c02e-d1167fcb687d"
      },
      "source": [
        "df['lum_val']"
      ],
      "execution_count": 44,
      "outputs": [
        {
          "output_type": "execute_result",
          "data": {
            "text/plain": [
              "16     2.300189\n",
              "18     0.764250\n",
              "19     8.664760\n",
              "24     0.122421\n",
              "25     0.086321\n",
              "         ...   \n",
              "967         NaN\n",
              "968    0.492468\n",
              "970    0.049681\n",
              "971    0.648189\n",
              "977    7.839014\n",
              "Name: lum_val, Length: 810, dtype: float32"
            ]
          },
          "metadata": {
            "tags": []
          },
          "execution_count": 44
        }
      ]
    },
    {
      "cell_type": "markdown",
      "metadata": {
        "id": "sHF0h424_Gew",
        "colab_type": "text"
      },
      "source": [
        "Let's look at just the stars that do have data (where the data is *not* null):"
      ]
    },
    {
      "cell_type": "code",
      "metadata": {
        "id": "pltijpAa_Gew",
        "colab_type": "code",
        "colab": {
          "base_uri": "https://localhost:8080/",
          "height": 221
        },
        "outputId": "c4df2fc4-a197-4aa8-e640-157fb95d18c7"
      },
      "source": [
        "df[df['lum_val'].isnull()==False]['lum_val']"
      ],
      "execution_count": 45,
      "outputs": [
        {
          "output_type": "execute_result",
          "data": {
            "text/plain": [
              "16     2.300189\n",
              "18     0.764250\n",
              "19     8.664760\n",
              "24     0.122421\n",
              "25     0.086321\n",
              "         ...   \n",
              "963    1.091812\n",
              "968    0.492468\n",
              "970    0.049681\n",
              "971    0.648189\n",
              "977    7.839014\n",
              "Name: lum_val, Length: 262, dtype: float32"
            ]
          },
          "metadata": {
            "tags": []
          },
          "execution_count": 45
        }
      ]
    },
    {
      "cell_type": "markdown",
      "metadata": {
        "id": "csjXENs_qnuK",
        "colab_type": "text"
      },
      "source": [
        "That's a shorter list! Let's get python to compute the percentage of stars that have luminosity data."
      ]
    },
    {
      "cell_type": "code",
      "metadata": {
        "id": "Dv78ZtVo_Gey",
        "colab_type": "code",
        "colab": {
          "base_uri": "https://localhost:8080/",
          "height": 68
        },
        "outputId": "314a17de-2523-4fbf-a320-64be51176c72"
      },
      "source": [
        "len_good = len(df[df['lum_val'].isnull()==False])\n",
        "len_total = len(df)\n",
        "print(\"That's\", len_good, \"stars with luminosity data out of\", len_total, \n",
        "      f\"({len_good/len_total:.1%})\")\n",
        "\n",
        "len_good = len(df[df['teff_val'].isnull()==False])\n",
        "print(\"and looking ahead a bit, there are\", len_good, \"stars with temperature data out of\", len_total, \n",
        "      f\"({len_good/len_total:.1%})\")\n",
        "\n",
        "len_good = len(df[df['radius_val'].isnull()==False])\n",
        "print(\"and\", len_good, \"with radius data out of\", len_total, \n",
        "      f\"({len_good/len_total:.1%})\")"
      ],
      "execution_count": 46,
      "outputs": [
        {
          "output_type": "stream",
          "text": [
            "That's 262 stars with luminosity data out of 810 (32.3%)\n",
            "and looking ahead a bit, there are 588 stars with temperature data out of 810 (72.6%)\n",
            "and 262 with radius data out of 810 (32.3%)\n"
          ],
          "name": "stdout"
        }
      ]
    },
    {
      "cell_type": "markdown",
      "metadata": {
        "id": "na6mcyxi_Gez",
        "colab_type": "text"
      },
      "source": [
        "Let's make table of stars with provided luminosity (non-null values) so we can compare our computed values."
      ]
    },
    {
      "cell_type": "code",
      "metadata": {
        "id": "NQf2yIrD_Gez",
        "colab_type": "code",
        "colab": {
          "base_uri": "https://localhost:8080/",
          "height": 419
        },
        "outputId": "73cf727d-bece-465e-ca4b-66db62444a7f"
      },
      "source": [
        "compare_luminosity = df.loc[df['lum_val'].isnull()==False, # the condition we want to be true\n",
        "                            ['lum_val','L_sun']] # the columns that we want to put in the new table\n",
        "compare_luminosity"
      ],
      "execution_count": 47,
      "outputs": [
        {
          "output_type": "execute_result",
          "data": {
            "text/html": [
              "<div>\n",
              "<style scoped>\n",
              "    .dataframe tbody tr th:only-of-type {\n",
              "        vertical-align: middle;\n",
              "    }\n",
              "\n",
              "    .dataframe tbody tr th {\n",
              "        vertical-align: top;\n",
              "    }\n",
              "\n",
              "    .dataframe thead th {\n",
              "        text-align: right;\n",
              "    }\n",
              "</style>\n",
              "<table border=\"1\" class=\"dataframe\">\n",
              "  <thead>\n",
              "    <tr style=\"text-align: right;\">\n",
              "      <th></th>\n",
              "      <th>lum_val</th>\n",
              "      <th>L_sun</th>\n",
              "    </tr>\n",
              "  </thead>\n",
              "  <tbody>\n",
              "    <tr>\n",
              "      <th>16</th>\n",
              "      <td>2.300189</td>\n",
              "      <td>2.529215</td>\n",
              "    </tr>\n",
              "    <tr>\n",
              "      <th>18</th>\n",
              "      <td>0.764250</td>\n",
              "      <td>0.813740</td>\n",
              "    </tr>\n",
              "    <tr>\n",
              "      <th>19</th>\n",
              "      <td>8.664760</td>\n",
              "      <td>9.314137</td>\n",
              "    </tr>\n",
              "    <tr>\n",
              "      <th>24</th>\n",
              "      <td>0.122421</td>\n",
              "      <td>0.067154</td>\n",
              "    </tr>\n",
              "    <tr>\n",
              "      <th>25</th>\n",
              "      <td>0.086321</td>\n",
              "      <td>0.065710</td>\n",
              "    </tr>\n",
              "    <tr>\n",
              "      <th>...</th>\n",
              "      <td>...</td>\n",
              "      <td>...</td>\n",
              "    </tr>\n",
              "    <tr>\n",
              "      <th>963</th>\n",
              "      <td>1.091812</td>\n",
              "      <td>1.138735</td>\n",
              "    </tr>\n",
              "    <tr>\n",
              "      <th>968</th>\n",
              "      <td>0.492468</td>\n",
              "      <td>0.488989</td>\n",
              "    </tr>\n",
              "    <tr>\n",
              "      <th>970</th>\n",
              "      <td>0.049681</td>\n",
              "      <td>0.023009</td>\n",
              "    </tr>\n",
              "    <tr>\n",
              "      <th>971</th>\n",
              "      <td>0.648189</td>\n",
              "      <td>0.637957</td>\n",
              "    </tr>\n",
              "    <tr>\n",
              "      <th>977</th>\n",
              "      <td>7.839014</td>\n",
              "      <td>8.232974</td>\n",
              "    </tr>\n",
              "  </tbody>\n",
              "</table>\n",
              "<p>262 rows × 2 columns</p>\n",
              "</div>"
            ],
            "text/plain": [
              "      lum_val     L_sun\n",
              "16   2.300189  2.529215\n",
              "18   0.764250  0.813740\n",
              "19   8.664760  9.314137\n",
              "24   0.122421  0.067154\n",
              "25   0.086321  0.065710\n",
              "..        ...       ...\n",
              "963  1.091812  1.138735\n",
              "968  0.492468  0.488989\n",
              "970  0.049681  0.023009\n",
              "971  0.648189  0.637957\n",
              "977  7.839014  8.232974\n",
              "\n",
              "[262 rows x 2 columns]"
            ]
          },
          "metadata": {
            "tags": []
          },
          "execution_count": 47
        }
      ]
    },
    {
      "cell_type": "markdown",
      "metadata": {
        "id": "6MWuMXt2_Ge0",
        "colab_type": "text"
      },
      "source": [
        "We can plot the values to see how they compare. Seaborn library contains a convenient linear regression function, `regplot()`, that draws a scatterplot of both columns with a regression line and shaded 95% confidence interval."
      ]
    },
    {
      "cell_type": "code",
      "metadata": {
        "id": "yISSbO7x_Ge0",
        "colab_type": "code",
        "colab": {
          "base_uri": "https://localhost:8080/",
          "height": 498
        },
        "outputId": "8b02bec3-6f73-4a68-c2dd-f8f8c0df00fa"
      },
      "source": [
        "fig, axs = plt.subplots(nrows=1, figsize=(8,8))\n",
        "\n",
        "compare_lum = df.loc[df['lum_val'].isnull()==False, ['lum_val','L_sun']]\n",
        "lum = sns.regplot(compare_lum['lum_val'], compare_lum['L_sun'], ax=axs)\n",
        "lum.set(xlabel='Gaia data: lum_val', ylabel='Calculated L_sun')\n",
        "\n",
        "plt.show()"
      ],
      "execution_count": 48,
      "outputs": [
        {
          "output_type": "display_data",
          "data": {
            "image/png": "[encoded data removed]",
            "text/plain": [
              "<Figure size 576x576 with 1 Axes>"
            ]
          },
          "metadata": {
            "tags": [],
            "needs_background": "light"
          }
        }
      ]
    },
    {
      "cell_type": "markdown",
      "metadata": {
        "id": "_hw1W6pG_Ge1",
        "colab_type": "text"
      },
      "source": [
        "# Calculating effective temperature\n",
        "\n",
        "Solving for effective temperature in Kelvin, $T_K$, using:\n",
        "$$T_K = \\frac{5601 K}{(\\mathtt{color}+0.4)^{2/3}}$$<br>\n",
        "Note that this formula breaks when $\\mathtt{color} = -0.4$<br>\n",
        "from http://astro.physics.uiowa.edu/ITU/labs/professional-labs/photometry-of-a-globular/part-2-finding-temperature.html"
      ]
    },
    {
      "cell_type": "code",
      "metadata": {
        "id": "icB2iI1u_Ge2",
        "colab_type": "code",
        "colab": {
          "base_uri": "https://localhost:8080/",
          "height": 452
        },
        "outputId": "4001acbc-c60d-401b-92f5-f4c8f2a28a09"
      },
      "source": [
        "# check if any color values are < -0.4 or null\n",
        "df[(df['bp_rp']<=-0.4) | (df['bp_rp'].isnull()==True)]"
      ],
      "execution_count": 49,
      "outputs": [
        {
          "output_type": "execute_result",
          "data": {
            "text/html": [
              "<div>\n",
              "<style scoped>\n",
              "    .dataframe tbody tr th:only-of-type {\n",
              "        vertical-align: middle;\n",
              "    }\n",
              "\n",
              "    .dataframe tbody tr th {\n",
              "        vertical-align: top;\n",
              "    }\n",
              "\n",
              "    .dataframe thead th {\n",
              "        text-align: right;\n",
              "    }\n",
              "</style>\n",
              "<table border=\"1\" class=\"dataframe\">\n",
              "  <thead>\n",
              "    <tr style=\"text-align: right;\">\n",
              "      <th></th>\n",
              "      <th>gmag</th>\n",
              "      <th>ra</th>\n",
              "      <th>dec</th>\n",
              "      <th>plx</th>\n",
              "      <th>bp_rp</th>\n",
              "      <th>lum_val</th>\n",
              "      <th>teff_val</th>\n",
              "      <th>radius_val</th>\n",
              "      <th>M</th>\n",
              "      <th>LY</th>\n",
              "      <th>L_sun</th>\n",
              "    </tr>\n",
              "  </thead>\n",
              "  <tbody>\n",
              "    <tr>\n",
              "      <th>47</th>\n",
              "      <td>9.967809</td>\n",
              "      <td>57.491181</td>\n",
              "      <td>23.847954</td>\n",
              "      <td>7.262145</td>\n",
              "      <td>NaN</td>\n",
              "      <td>NaN</td>\n",
              "      <td>NaN</td>\n",
              "      <td>NaN</td>\n",
              "      <td>4.273133</td>\n",
              "      <td>449.117965</td>\n",
              "      <td>1.580326</td>\n",
              "    </tr>\n",
              "    <tr>\n",
              "      <th>79</th>\n",
              "      <td>16.613859</td>\n",
              "      <td>58.047312</td>\n",
              "      <td>24.930016</td>\n",
              "      <td>7.680567</td>\n",
              "      <td>-0.430557</td>\n",
              "      <td>NaN</td>\n",
              "      <td>8868.666992</td>\n",
              "      <td>NaN</td>\n",
              "      <td>11.040826</td>\n",
              "      <td>424.650956</td>\n",
              "      <td>0.003102</td>\n",
              "    </tr>\n",
              "    <tr>\n",
              "      <th>152</th>\n",
              "      <td>17.550318</td>\n",
              "      <td>56.825652</td>\n",
              "      <td>24.230568</td>\n",
              "      <td>7.703831</td>\n",
              "      <td>NaN</td>\n",
              "      <td>NaN</td>\n",
              "      <td>NaN</td>\n",
              "      <td>NaN</td>\n",
              "      <td>11.983852</td>\n",
              "      <td>423.368560</td>\n",
              "      <td>0.001302</td>\n",
              "    </tr>\n",
              "    <tr>\n",
              "      <th>187</th>\n",
              "      <td>15.349448</td>\n",
              "      <td>57.554229</td>\n",
              "      <td>24.351824</td>\n",
              "      <td>6.994193</td>\n",
              "      <td>NaN</td>\n",
              "      <td>NaN</td>\n",
              "      <td>NaN</td>\n",
              "      <td>NaN</td>\n",
              "      <td>9.573136</td>\n",
              "      <td>466.324005</td>\n",
              "      <td>0.011988</td>\n",
              "    </tr>\n",
              "    <tr>\n",
              "      <th>430</th>\n",
              "      <td>11.481304</td>\n",
              "      <td>56.583196</td>\n",
              "      <td>25.475364</td>\n",
              "      <td>7.418772</td>\n",
              "      <td>NaN</td>\n",
              "      <td>NaN</td>\n",
              "      <td>NaN</td>\n",
              "      <td>NaN</td>\n",
              "      <td>5.832964</td>\n",
              "      <td>439.636114</td>\n",
              "      <td>0.375677</td>\n",
              "    </tr>\n",
              "    <tr>\n",
              "      <th>469</th>\n",
              "      <td>17.703762</td>\n",
              "      <td>57.320234</td>\n",
              "      <td>24.016444</td>\n",
              "      <td>6.962688</td>\n",
              "      <td>NaN</td>\n",
              "      <td>NaN</td>\n",
              "      <td>NaN</td>\n",
              "      <td>NaN</td>\n",
              "      <td>11.917647</td>\n",
              "      <td>468.434031</td>\n",
              "      <td>0.001383</td>\n",
              "    </tr>\n",
              "    <tr>\n",
              "      <th>483</th>\n",
              "      <td>10.112981</td>\n",
              "      <td>56.453029</td>\n",
              "      <td>23.147857</td>\n",
              "      <td>7.327235</td>\n",
              "      <td>NaN</td>\n",
              "      <td>NaN</td>\n",
              "      <td>NaN</td>\n",
              "      <td>NaN</td>\n",
              "      <td>4.437682</td>\n",
              "      <td>445.128326</td>\n",
              "      <td>1.358086</td>\n",
              "    </tr>\n",
              "    <tr>\n",
              "      <th>624</th>\n",
              "      <td>16.449940</td>\n",
              "      <td>57.084596</td>\n",
              "      <td>24.915198</td>\n",
              "      <td>7.145364</td>\n",
              "      <td>NaN</td>\n",
              "      <td>NaN</td>\n",
              "      <td>NaN</td>\n",
              "      <td>NaN</td>\n",
              "      <td>10.720062</td>\n",
              "      <td>456.458173</td>\n",
              "      <td>0.004168</td>\n",
              "    </tr>\n",
              "    <tr>\n",
              "      <th>716</th>\n",
              "      <td>19.652250</td>\n",
              "      <td>56.558642</td>\n",
              "      <td>23.365561</td>\n",
              "      <td>7.221616</td>\n",
              "      <td>NaN</td>\n",
              "      <td>NaN</td>\n",
              "      <td>NaN</td>\n",
              "      <td>NaN</td>\n",
              "      <td>13.945422</td>\n",
              "      <td>451.638555</td>\n",
              "      <td>0.000214</td>\n",
              "    </tr>\n",
              "    <tr>\n",
              "      <th>748</th>\n",
              "      <td>14.652494</td>\n",
              "      <td>56.825473</td>\n",
              "      <td>24.036443</td>\n",
              "      <td>7.350754</td>\n",
              "      <td>NaN</td>\n",
              "      <td>NaN</td>\n",
              "      <td>NaN</td>\n",
              "      <td>NaN</td>\n",
              "      <td>8.984154</td>\n",
              "      <td>443.704169</td>\n",
              "      <td>0.020622</td>\n",
              "    </tr>\n",
              "    <tr>\n",
              "      <th>857</th>\n",
              "      <td>16.334352</td>\n",
              "      <td>56.541545</td>\n",
              "      <td>24.673711</td>\n",
              "      <td>7.546405</td>\n",
              "      <td>NaN</td>\n",
              "      <td>NaN</td>\n",
              "      <td>NaN</td>\n",
              "      <td>NaN</td>\n",
              "      <td>10.723053</td>\n",
              "      <td>432.200522</td>\n",
              "      <td>0.004157</td>\n",
              "    </tr>\n",
              "    <tr>\n",
              "      <th>901</th>\n",
              "      <td>18.970186</td>\n",
              "      <td>56.559902</td>\n",
              "      <td>23.850237</td>\n",
              "      <td>7.171069</td>\n",
              "      <td>NaN</td>\n",
              "      <td>NaN</td>\n",
              "      <td>NaN</td>\n",
              "      <td>NaN</td>\n",
              "      <td>13.248106</td>\n",
              "      <td>454.821991</td>\n",
              "      <td>0.000406</td>\n",
              "    </tr>\n",
              "    <tr>\n",
              "      <th>922</th>\n",
              "      <td>17.186306</td>\n",
              "      <td>57.975165</td>\n",
              "      <td>24.047357</td>\n",
              "      <td>7.034272</td>\n",
              "      <td>NaN</td>\n",
              "      <td>NaN</td>\n",
              "      <td>NaN</td>\n",
              "      <td>NaN</td>\n",
              "      <td>11.422402</td>\n",
              "      <td>463.666998</td>\n",
              "      <td>0.002183</td>\n",
              "    </tr>\n",
              "  </tbody>\n",
              "</table>\n",
              "</div>"
            ],
            "text/plain": [
              "          gmag         ra        dec  ...          M          LY     L_sun\n",
              "47    9.967809  57.491181  23.847954  ...   4.273133  449.117965  1.580326\n",
              "79   16.613859  58.047312  24.930016  ...  11.040826  424.650956  0.003102\n",
              "152  17.550318  56.825652  24.230568  ...  11.983852  423.368560  0.001302\n",
              "187  15.349448  57.554229  24.351824  ...   9.573136  466.324005  0.011988\n",
              "430  11.481304  56.583196  25.475364  ...   5.832964  439.636114  0.375677\n",
              "469  17.703762  57.320234  24.016444  ...  11.917647  468.434031  0.001383\n",
              "483  10.112981  56.453029  23.147857  ...   4.437682  445.128326  1.358086\n",
              "624  16.449940  57.084596  24.915198  ...  10.720062  456.458173  0.004168\n",
              "716  19.652250  56.558642  23.365561  ...  13.945422  451.638555  0.000214\n",
              "748  14.652494  56.825473  24.036443  ...   8.984154  443.704169  0.020622\n",
              "857  16.334352  56.541545  24.673711  ...  10.723053  432.200522  0.004157\n",
              "901  18.970186  56.559902  23.850237  ...  13.248106  454.821991  0.000406\n",
              "922  17.186306  57.975165  24.047357  ...  11.422402  463.666998  0.002183\n",
              "\n",
              "[13 rows x 11 columns]"
            ]
          },
          "metadata": {
            "tags": []
          },
          "execution_count": 49
        }
      ]
    },
    {
      "cell_type": "code",
      "metadata": {
        "id": "1uMmHG4t_Ge3",
        "colab_type": "code",
        "colab": {
          "base_uri": "https://localhost:8080/",
          "height": 34
        },
        "outputId": "9079c85b-d960-42c8-c932-1217ab7beac5"
      },
      "source": [
        "# python trick: you can refer to the results of the previous code cell by the underscore character, \"_\".\n",
        "# use the underscore \"_\" to grab the length of the above table.\n",
        "length = len(_)\n",
        "print(\"So we'll have to lose\", length, \"stars\")"
      ],
      "execution_count": 50,
      "outputs": [
        {
          "output_type": "stream",
          "text": [
            "So we'll have to lose 13 stars\n"
          ],
          "name": "stdout"
        }
      ]
    },
    {
      "cell_type": "code",
      "metadata": {
        "id": "zT53mUA6_Ge6",
        "colab_type": "code",
        "colab": {
          "base_uri": "https://localhost:8080/",
          "height": 34
        },
        "outputId": "feabfda9-91aa-403d-fbac-1b063426e24f"
      },
      "source": [
        "print('# of stars before:', len(df))"
      ],
      "execution_count": 51,
      "outputs": [
        {
          "output_type": "stream",
          "text": [
            "# of stars before: 810\n"
          ],
          "name": "stdout"
        }
      ]
    },
    {
      "cell_type": "code",
      "metadata": {
        "id": "Sl3dhfVr_Ge7",
        "colab_type": "code",
        "colab": {
          "base_uri": "https://localhost:8080/",
          "height": 34
        },
        "outputId": "1f8fd30d-3061-45f8-e02a-b9f21397a740"
      },
      "source": [
        "if length > 0:\n",
        "    df = df[df['bp_rp']>-0.4]\n",
        "    print(length, 'stars deleted')\n",
        "else:\n",
        "    print('no change needed')"
      ],
      "execution_count": 52,
      "outputs": [
        {
          "output_type": "stream",
          "text": [
            "13 stars deleted\n"
          ],
          "name": "stdout"
        }
      ]
    },
    {
      "cell_type": "code",
      "metadata": {
        "id": "Pf8S07TI_GfA",
        "colab_type": "code",
        "colab": {
          "base_uri": "https://localhost:8080/",
          "height": 34
        },
        "outputId": "03dc9dfe-75c8-4ad0-b4c3-8e93a8497ff0"
      },
      "source": [
        "print('# of stars after:', len(df))"
      ],
      "execution_count": 53,
      "outputs": [
        {
          "output_type": "stream",
          "text": [
            "# of stars after: 797\n"
          ],
          "name": "stdout"
        }
      ]
    },
    {
      "cell_type": "code",
      "metadata": {
        "id": "l1SgxcyS_GfD",
        "colab_type": "code",
        "colab": {}
      },
      "source": [
        "# now we can add a new column ('T_K') for effective temperature in Kelvin\n",
        "df['T_K'] = [5601/np.power(c+0.4,2/3) for c in df['bp_rp']]"
      ],
      "execution_count": 54,
      "outputs": []
    },
    {
      "cell_type": "code",
      "metadata": {
        "id": "mTDhL710_GfG",
        "colab_type": "code",
        "colab": {
          "base_uri": "https://localhost:8080/",
          "height": 170
        },
        "outputId": "423c8a9e-976d-4524-c40d-38f5fbe77f07"
      },
      "source": [
        "df['T_K'].describe()"
      ],
      "execution_count": 55,
      "outputs": [
        {
          "output_type": "execute_result",
          "data": {
            "text/plain": [
              "count      797.000000\n",
              "mean      3285.961208\n",
              "std       1479.918228\n",
              "min       2141.719796\n",
              "25%       2463.801873\n",
              "50%       2652.148652\n",
              "75%       3521.115300\n",
              "max      12310.095331\n",
              "Name: T_K, dtype: float64"
            ]
          },
          "metadata": {
            "tags": []
          },
          "execution_count": 55
        }
      ]
    },
    {
      "cell_type": "markdown",
      "metadata": {
        "id": "e0D7w01L_GfH",
        "colab_type": "text"
      },
      "source": [
        "# Calculating size\n",
        "\n",
        "Now that we have $T_K$ and $\\frac{L}{L_☉}$, we can solve for radius in multiples of solar radii, $$\\frac{R}{R_☉}$$<br>\n",
        "using $$\\frac{R}{R_☉} = \\frac{\\sqrt{L/L_☉}}{(T_K/T_☉)^2}$$"
      ]
    },
    {
      "cell_type": "code",
      "metadata": {
        "scrolled": true,
        "id": "ZgMDxFXi_GfH",
        "colab_type": "code",
        "colab": {}
      },
      "source": [
        "df['R_sun']=np.around(np.sqrt(df['L_sun'])/(df['T_K']/5800)**2, decimals=2) # T_☉ = 5800"
      ],
      "execution_count": 56,
      "outputs": []
    },
    {
      "cell_type": "code",
      "metadata": {
        "id": "3Z0Q8V1c_GfJ",
        "colab_type": "code",
        "colab": {
          "base_uri": "https://localhost:8080/",
          "height": 170
        },
        "outputId": "e538c9d1-489f-4c22-a012-67e47c6679aa"
      },
      "source": [
        "df['R_sun'].describe()"
      ],
      "execution_count": 57,
      "outputs": [
        {
          "output_type": "execute_result",
          "data": {
            "text/plain": [
              "count    797.000000\n",
              "mean       0.645809\n",
              "std        0.574150\n",
              "min        0.020000\n",
              "25%        0.250000\n",
              "50%        0.410000\n",
              "75%        0.800000\n",
              "max        3.110000\n",
              "Name: R_sun, dtype: float64"
            ]
          },
          "metadata": {
            "tags": []
          },
          "execution_count": 57
        }
      ]
    },
    {
      "cell_type": "markdown",
      "metadata": {
        "id": "1n-OtKGF_GfK",
        "colab_type": "text"
      },
      "source": [
        "Let's see how our calculated values for effective surface temperature in Kelvin, `T_K`, and radius in multiples of solar radius, `R_sun` compare to Gaia's data (for some stars) in columns `teff_val`, and `radius_val`.\n",
        "\n",
        "Let's look at Gaia's effective temperature and solar radius data."
      ]
    },
    {
      "cell_type": "code",
      "metadata": {
        "id": "X_LXtKjL_GfL",
        "colab_type": "code",
        "colab": {
          "base_uri": "https://localhost:8080/",
          "height": 221
        },
        "outputId": "ec7a593c-57b4-422b-d4b4-0fe969467d34"
      },
      "source": [
        "df['teff_val']"
      ],
      "execution_count": 58,
      "outputs": [
        {
          "output_type": "execute_result",
          "data": {
            "text/plain": [
              "16     6020.866699\n",
              "18     5518.000000\n",
              "19     7696.000000\n",
              "24     3744.693359\n",
              "25     4267.000000\n",
              "          ...     \n",
              "967            NaN\n",
              "968    5042.066895\n",
              "970    3512.189941\n",
              "971    5000.000000\n",
              "977    7963.195312\n",
              "Name: teff_val, Length: 797, dtype: float32"
            ]
          },
          "metadata": {
            "tags": []
          },
          "execution_count": 58
        }
      ]
    },
    {
      "cell_type": "code",
      "metadata": {
        "id": "GGkTyr-R_GfM",
        "colab_type": "code",
        "colab": {
          "base_uri": "https://localhost:8080/",
          "height": 221
        },
        "outputId": "e0858b58-fa46-4b1f-9bfb-719a9c541a8a"
      },
      "source": [
        "df['radius_val']"
      ],
      "execution_count": 59,
      "outputs": [
        {
          "output_type": "execute_result",
          "data": {
            "text/plain": [
              "16     1.393851\n",
              "18     0.956548\n",
              "19     1.655773\n",
              "24     0.831281\n",
              "25     0.537607\n",
              "         ...   \n",
              "967         NaN\n",
              "968    0.919654\n",
              "970    0.601992\n",
              "971    1.072910\n",
              "977    1.470986\n",
              "Name: radius_val, Length: 797, dtype: float32"
            ]
          },
          "metadata": {
            "tags": []
          },
          "execution_count": 59
        }
      ]
    },
    {
      "cell_type": "markdown",
      "metadata": {
        "id": "lZa0J2UB_GfO",
        "colab_type": "text"
      },
      "source": [
        "As we did earlier with luminosity data, let's make tables of stars with provided non-null temperature and radius values and draw regression plots so we can compare our computed values."
      ]
    },
    {
      "cell_type": "code",
      "metadata": {
        "id": "tRTqPy_5_GfP",
        "colab_type": "code",
        "colab": {
          "base_uri": "https://localhost:8080/",
          "height": 933
        },
        "outputId": "d474fd5e-598c-460f-a69f-82446b75370a"
      },
      "source": [
        "fig, axs = plt.subplots(nrows=2, figsize=(8,16))\n",
        "\n",
        "compare_temp = df.loc[df['teff_val'].isnull()==False, ['teff_val', 'T_K']]\n",
        "temp = sns.regplot(compare_temp['teff_val'], compare_temp['T_K'], ax=axs[0])\n",
        "temp.set(xlabel='Gaia data: teff_val', ylabel='Calculated T_K')\n",
        "\n",
        "compare_rad = df.loc[df['radius_val'].isnull()==False, ['radius_val', 'R_sun']]\n",
        "rad = sns.regplot(compare_rad['radius_val'], compare_rad['R_sun'], ax=axs[1])\n",
        "rad.set(xlabel='Gaia data: radius_val', ylabel='Calculated R_sun')\n",
        "\n",
        "plt.show()"
      ],
      "execution_count": 60,
      "outputs": [
        {
          "output_type": "display_data",
          "data": {
            "image/png": "[encoded data removed]",
            "text/plain": [
              "<Figure size 576x1152 with 2 Axes>"
            ]
          },
          "metadata": {
            "tags": [],
            "needs_background": "light"
          }
        }
      ]
    },
    {
      "cell_type": "markdown",
      "metadata": {
        "id": "mAsVSW5q_GfQ",
        "colab_type": "text"
      },
      "source": [
        "# Plotting position in the night sky\n",
        "\n",
        "Let's plot right ascension and declination for our cluster and display brighter stars with larger dots and more vibrant colors.\n",
        "\n",
        "We can't use apparent brightness, `'gmag'`, directly to show brighter stars with larger dots and brighter colors because magnitude is a scale with an \"inverted\" sense (dimmer stars have larger values). Let's reverse the values just for this plot. "
      ]
    },
    {
      "cell_type": "code",
      "metadata": {
        "id": "45o0u0X5EWZM",
        "colab_type": "code",
        "colab": {
          "base_uri": "https://localhost:8080/",
          "height": 170
        },
        "outputId": "0d39cd37-4b7f-47bd-b145-959aa32b63b5"
      },
      "source": [
        "# subtract apparent brightness ('gmag') from the largest value to give the brightest stars large values and the dimmest stars small ones (the opposite of the apparent magnitude scale)\n",
        "brightness = df['gmag'].max()-df['gmag']\n",
        "brightness.name = 'brightness'\n",
        "brightness.describe()"
      ],
      "execution_count": 61,
      "outputs": [
        {
          "output_type": "execute_result",
          "data": {
            "text/plain": [
              "count    797.000000\n",
              "mean       4.881563\n",
              "std        3.054618\n",
              "min        0.000000\n",
              "25%        2.664265\n",
              "50%        3.814735\n",
              "75%        6.598544\n",
              "max       14.583029\n",
              "Name: brightness, dtype: float64"
            ]
          },
          "metadata": {
            "tags": []
          },
          "execution_count": 61
        }
      ]
    },
    {
      "cell_type": "code",
      "metadata": {
        "id": "kVhPF-HT_GfX",
        "colab_type": "code",
        "colab": {
          "base_uri": "https://localhost:8080/",
          "height": 673
        },
        "outputId": "15c9c233-4eee-4fe6-e45d-b6959a68a19b"
      },
      "source": [
        "plt.style.use('dark_background')\n",
        "sns.relplot(x='ra', y='dec', height=9, aspect=1.2, alpha=0.8, edgecolor=None,\n",
        "                size=brightness,\n",
        "                hue=brightness,\n",
        "                palette='mako', \n",
        "                data=df, \n",
        "               )\n",
        "plt.title('The Pleiades in the Night Sky')\n",
        "\n",
        "plt.show()"
      ],
      "execution_count": 62,
      "outputs": [
        {
          "output_type": "display_data",
          "data": {
            "image/png": "[encoded data removed]",
            "text/plain": [
              "<Figure size 866.475x648 with 1 Axes>"
            ]
          },
          "metadata": {
            "tags": []
          }
        }
      ]
    },
    {
      "cell_type": "markdown",
      "metadata": {
        "id": "05u-MioewUQ9",
        "colab_type": "text"
      },
      "source": [
        "# HR Diagram\n",
        "\n",
        "Let's plot color vs. absolute magnitude."
      ]
    },
    {
      "cell_type": "code",
      "metadata": {
        "id": "keFkLq1SiiWd",
        "colab_type": "code",
        "colab": {
          "base_uri": "https://localhost:8080/",
          "height": 636
        },
        "outputId": "41b4ca18-3c89-49bc-c28c-300b254595c7"
      },
      "source": [
        "sns.relplot(x='bp_rp', y='M', height=8.5, aspect=1.2, legend=None,\n",
        "            #edgecolor=None,\n",
        "            hue='bp_rp',\n",
        "            palette='coolwarm',\n",
        "            size='R_sun',\n",
        "            sizes=(1,df['R_sun'].max()/df['R_sun'].min()),\n",
        "            data=df\n",
        "            )\n",
        "plt.ylim(df['M'].max()+1, df['M'].min()-1)\n",
        "plt.xlabel('Color (bp - rp)')\n",
        "plt.ylabel('Absolute Magnitude')\n",
        "plt.title('Hertzsprung-Russel Diagram of the Pleiades')\n",
        "\n",
        "plt.show()"
      ],
      "execution_count": 63,
      "outputs": [
        {
          "output_type": "display_data",
          "data": {
            "image/png": "[encoded data removed]",
            "text/plain": [
              "<Figure size 734.4x612 with 1 Axes>"
            ]
          },
          "metadata": {
            "tags": []
          }
        }
      ]
    },
    {
      "cell_type": "markdown",
      "metadata": {
        "id": "nDcmVZvfKrlw",
        "colab_type": "text"
      },
      "source": [
        "Now go look up the Hyades star cluster and\n",
        "* plot ra/dec--remember to:\n",
        "    * invert apparant magnitude (column `'gmag'`) for the plot\n",
        "    * apply a \"reasonableness test\" to your distances and clean outliers\n",
        "* make an HR diagram--note that you'll need to:\n",
        "    * calculate absolute magnitude\n",
        "    * calculate radius and\n",
        "    * \"clean\" the data by getting rid of stars with null color data (column `'bp_rp'`)\n",
        "\n",
        "\n",
        "<img src=\"https://www.constellation-guide.com/wp-content/uploads/2012/10/Hyades.jpg\" width=800 />\n",
        "\n",
        "Image credit: taken December 20, 2006 at 7:36pm EST by Todd Vance"
      ]
    },
    {
      "cell_type": "code",
      "metadata": {
        "id": "4ZfBBMzMLrPE",
        "colab_type": "code",
        "colab": {}
      },
      "source": [
        ""
      ],
      "execution_count": null,
      "outputs": []
    }
  ]
}